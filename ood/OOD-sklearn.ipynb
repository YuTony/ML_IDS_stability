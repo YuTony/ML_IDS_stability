{
 "cells": [
  {
   "cell_type": "code",
   "execution_count": 50,
   "id": "4edd1612",
   "metadata": {},
   "outputs": [],
   "source": [
    "import pandas as pd\n",
    "import numpy as np\n",
    "from sklearn.model_selection import train_test_split\n",
    "from sklearn.metrics import accuracy_score, precision_score, recall_score, f1_score\n",
    "from tqdm.auto import tqdm\n",
    "import matplotlib.pyplot as plt\n",
    "import lightgbm as lgb\n",
    "import seaborn as sns"
   ]
  },
  {
   "cell_type": "code",
   "execution_count": 51,
   "id": "ffd4bf5b",
   "metadata": {},
   "outputs": [],
   "source": [
    "from river import anomaly\n",
    "from river import stream\n",
    "from river import evaluate\n",
    "from river import metrics\n",
    "from river import compose\n",
    "from river import preprocessing"
   ]
  },
  {
   "cell_type": "code",
   "execution_count": 52,
   "id": "ea12578c",
   "metadata": {},
   "outputs": [],
   "source": [
    "from sklearn.svm import OneClassSVM\n",
    "from sklearn.neighbors import LocalOutlierFactor\n",
    "from sklearn.metrics import classification_report\n",
    "from sklearn.preprocessing import MinMaxScaler\n",
    "from sklearn.ensemble import IsolationForest"
   ]
  },
  {
   "cell_type": "code",
   "execution_count": 53,
   "id": "c592c838",
   "metadata": {},
   "outputs": [],
   "source": [
    "PROJECT_ROOT                     = \"../../\"\n",
    "\n",
    "SOURCE_DATASET_ROOT              = PROJECT_ROOT + \"datasets/isp3/\"\n",
    "\n",
    "SOURCE_DATASET_FILENAME          = SOURCE_DATASET_ROOT + \"[dvwa.isp_xvwa.isp]_https_apache.csv\"\n",
    "SOURCE_DATASET_FILENAME_D        = SOURCE_DATASET_ROOT + \"[dvwa.isp]_https_apache.csv\"\n",
    "SOURCE_DATASET_FILENAME_X        = SOURCE_DATASET_ROOT + \"[xvwa.isp]_https_apache.csv\"\n",
    "# SOURCE_DATASET_TRAIN_FILENAME    = SOURCE_DATASET_ROOT + \"DataSetN_Train.csv\"\n",
    "# SOURCE_DATASET_TEST_FILENAME     = SOURCE_DATASET_ROOT + \"DataSetN_Test.csv\""
   ]
  },
  {
   "cell_type": "markdown",
   "id": "1090ae16",
   "metadata": {},
   "source": [
    "# Фичи"
   ]
  },
  {
   "cell_type": "code",
   "execution_count": 54,
   "id": "f7c207f0",
   "metadata": {},
   "outputs": [
    {
     "name": "stderr",
     "output_type": "stream",
     "text": [
      "/tmp/ipykernel_53/3322869287.py:1: DtypeWarning: Columns (3,103,121) have mixed types. Specify dtype option on import or set low_memory=False.\n",
      "  df = pd.read_csv(SOURCE_DATASET_FILENAME)\n"
     ]
    },
    {
     "data": {
      "text/plain": [
       "Label\n",
       "Web Attack - DDoS                 65295\n",
       "Benign                             4446\n",
       "Web Attack - XSS                   2686\n",
       "Web Attack - SQL Injection         1483\n",
       "Web Attack - Command Injection     1400\n",
       "Web Attack - Brute Force            497\n",
       "Web Attack - Web Shell              353\n",
       "Web Attack - CSRF                    60\n",
       "Name: count, dtype: int64"
      ]
     },
     "execution_count": 54,
     "metadata": {},
     "output_type": "execute_result"
    }
   ],
   "source": [
    "df = pd.read_csv(SOURCE_DATASET_FILENAME)\n",
    "df['Label'].value_counts()"
   ]
  },
  {
   "cell_type": "code",
   "execution_count": 55,
   "id": "3c5a3e87",
   "metadata": {},
   "outputs": [],
   "source": [
    "excluded = ['Flow_ID', 'Source_IP', 'Source_Port', 'Destination_IP', 'Destination_Port', 'Protocol', 'Timestamp', \"Unnamed: 0\", \"xvwa.isp\", \"Label\", \"dvwa.isp\"]\n",
    "df = df.drop(columns=excluded, errors='ignore')"
   ]
  },
  {
   "cell_type": "code",
   "execution_count": 56,
   "id": "87166feb",
   "metadata": {},
   "outputs": [],
   "source": [
    "excluded2 = ['Session_Index',  'Target','Http_Reqest','Root','GlobalLabel','Type','Tools','ToolsThreads','ToolsDelay','ToolsAdditional',\n",
    "             'ChannelSpeedBefore','ChannelSpeedAfter','NetemString','Server','KeepAliveTimeout','TargetProtocol','File','SessionAnalizerMode']\n",
    "df = df.drop(columns=excluded2)"
   ]
  },
  {
   "cell_type": "code",
   "execution_count": 57,
   "id": "66fe6bf7",
   "metadata": {
    "scrolled": true
   },
   "outputs": [],
   "source": [
    "webattack_features = list(df.columns)"
   ]
  },
  {
   "cell_type": "code",
   "execution_count": 58,
   "id": "fafc6f2f",
   "metadata": {},
   "outputs": [
    {
     "name": "stderr",
     "output_type": "stream",
     "text": [
      "/tmp/ipykernel_53/3322869287.py:1: DtypeWarning: Columns (3,103,121) have mixed types. Specify dtype option on import or set low_memory=False.\n",
      "  df = pd.read_csv(SOURCE_DATASET_FILENAME)\n"
     ]
    },
    {
     "data": {
      "text/plain": [
       "Label\n",
       "Web Attack - DDoS                 65295\n",
       "Benign                             4446\n",
       "Web Attack - XSS                   2686\n",
       "Web Attack - SQL Injection         1483\n",
       "Web Attack - Command Injection     1400\n",
       "Web Attack - Brute Force            497\n",
       "Web Attack - Web Shell              353\n",
       "Web Attack - CSRF                    60\n",
       "Name: count, dtype: int64"
      ]
     },
     "execution_count": 58,
     "metadata": {},
     "output_type": "execute_result"
    }
   ],
   "source": [
    "df = pd.read_csv(SOURCE_DATASET_FILENAME)\n",
    "df['Label'].value_counts()"
   ]
  },
  {
   "cell_type": "code",
   "execution_count": 59,
   "id": "542ff999",
   "metadata": {},
   "outputs": [
    {
     "data": {
      "text/plain": [
       "Label\n",
       "Benign                            4446\n",
       "Web Attack - DDoS                 3918\n",
       "Web Attack - XSS                  2686\n",
       "Web Attack - SQL Injection        1483\n",
       "Web Attack - Command Injection    1400\n",
       "Web Attack - Brute Force           497\n",
       "Web Attack - Web Shell             353\n",
       "Web Attack - CSRF                   60\n",
       "Name: count, dtype: int64"
      ]
     },
     "execution_count": 59,
     "metadata": {},
     "output_type": "execute_result"
    }
   ],
   "source": [
    "label_rows = df[df['Label'] == 'Web Attack - DDoS']\n",
    "rows_to_remove = label_rows.sample(frac=0.94, random_state=42)\n",
    "df = df.drop(index=rows_to_remove.index)\n",
    "df['Label'].value_counts()"
   ]
  },
  {
   "cell_type": "code",
   "execution_count": 60,
   "id": "cde9ed95",
   "metadata": {},
   "outputs": [],
   "source": [
    "# g = df.groupby('Label')\n",
    "# g = g.apply(lambda x: x.sample(g.size().min()).reset_index(drop=True))\n",
    "# df = g.reset_index(drop=True)"
   ]
  },
  {
   "cell_type": "code",
   "execution_count": 61,
   "id": "ce8710b3",
   "metadata": {},
   "outputs": [],
   "source": [
    "attacks = {\n",
    "    'Web Attack - XSS',\n",
    "    'Web Attack - CSRF',\n",
    "    'Web Attack - Brute Force',\n",
    "    'Web Attack - Web Shell',\n",
    "    'Web Attack - Command Injection',\n",
    "    'Web Attack - SQL Injection',\n",
    "    'Web Attack - DDoS'\n",
    "}\n",
    "\n",
    "attack_to_exclude = {'Web Attack - Web Shell'}\n",
    "\n",
    "benign = {'Benign', 'FromInSide'}"
   ]
  },
  {
   "cell_type": "code",
   "execution_count": 62,
   "id": "e2a6d849",
   "metadata": {},
   "outputs": [],
   "source": [
    "df['Label'] = df['Label'].replace(to_replace=benign, value='Benign')\n",
    "df_full = df[df['Label'].isin(attacks | benign)]\n",
    "df_part = df_full[~df_full['Label'].isin(attack_to_exclude)]"
   ]
  },
  {
   "cell_type": "code",
   "execution_count": 63,
   "id": "7f79b373",
   "metadata": {},
   "outputs": [],
   "source": [
    "def prepare_dataset(df, train_size=0.2, test_size=0.8):\n",
    "    X = df[webattack_features]\n",
    "    y = df['Label']\n",
    "    if train_size == 0 and test_size == 1:\n",
    "        return [], X, [], y\n",
    "    else:\n",
    "        X_train, X_test, y_train, y_test = train_test_split(X,y, stratify=y, \n",
    "                                                            train_size=train_size, test_size=test_size, shuffle=True, random_state=0)\n",
    "    return X_train, X_test, y_train, y_test"
   ]
  },
  {
   "cell_type": "code",
   "execution_count": 64,
   "id": "89fb8a2a",
   "metadata": {},
   "outputs": [],
   "source": [
    "_, X_test1, _, y_test1 = prepare_dataset(df_part, train_size=0, test_size=1)"
   ]
  },
  {
   "cell_type": "code",
   "execution_count": 65,
   "id": "7a938489",
   "metadata": {},
   "outputs": [],
   "source": [
    "_, X_test2, _, y_test2 = prepare_dataset(df_full, train_size=0, test_size=1)"
   ]
  },
  {
   "cell_type": "code",
   "execution_count": 66,
   "id": "d496f1ef",
   "metadata": {},
   "outputs": [
    {
     "data": {
      "text/plain": [
       "Label\n",
       "Benign                            4446\n",
       "Web Attack - DDoS                 3918\n",
       "Web Attack - XSS                  2686\n",
       "Web Attack - SQL Injection        1483\n",
       "Web Attack - Command Injection    1400\n",
       "Web Attack - Brute Force           497\n",
       "Web Attack - CSRF                   60\n",
       "Name: count, dtype: int64"
      ]
     },
     "execution_count": 66,
     "metadata": {},
     "output_type": "execute_result"
    }
   ],
   "source": [
    "df_part[\"Label\"].value_counts()"
   ]
  },
  {
   "cell_type": "markdown",
   "id": "1870c2f1",
   "metadata": {},
   "source": [
    "# Границы"
   ]
  },
  {
   "cell_type": "code",
   "execution_count": 67,
   "id": "eade6202-bd1a-4638-8488-d2b14fdf964e",
   "metadata": {},
   "outputs": [],
   "source": [
    "def add_result(result, key, val):\n",
    "    if key in result:\n",
    "        result[key].append(val)\n",
    "    else:\n",
    "        result[key] = [val]"
   ]
  },
  {
   "cell_type": "code",
   "execution_count": 68,
   "id": "adbcca43",
   "metadata": {},
   "outputs": [],
   "source": [
    "def test(df, attacks, benign, test_ood):\n",
    "    df_full = df[df['Label'].isin(attacks | benign)]\n",
    "    result = {\"Label\": []}\n",
    "    for attack_to_exclude in tqdm(attacks):\n",
    "        report, name = test_ood(df_full, {attack_to_exclude})\n",
    "        \n",
    "        result[\"Label\"].append(attack_to_exclude)\n",
    "        # add_result(result, name, f\"{report._f1s[True].recall.get()*100}/{report._f1s[False].get()*100}\")\n",
    "        add_result(result, \"recall for anomaly\", report._f1s[True].recall.get())\n",
    "        add_result(result, \"f1 for normal\", report._f1s[False].get())\n",
    "    result = pd.DataFrame(result)\n",
    "    result = result.set_index(\"Label\")\n",
    "    columns=[(name, c) for c in result.columns]\n",
    "    result.columns=pd.MultiIndex.from_tuples(columns)\n",
    "    return result"
   ]
  },
  {
   "cell_type": "code",
   "execution_count": 69,
   "id": "ad1e5c58",
   "metadata": {},
   "outputs": [],
   "source": [
    "def test_ood_OneClassSVM(df, attack_to_exclude):\n",
    "    def comp_threshold(scores: np.ndarray):\n",
    "        for i in np.linspace(0.0, 0.9, num=50):\n",
    "            res = (scores<i).sum()/scores.shape[0]\n",
    "            if res>0.95:\n",
    "                return i\n",
    "    \n",
    "    def prepare_df(df):\n",
    "        X = df[webattack_features]\n",
    "        y = df['Label']\n",
    "        MinMaxScaler(df[webattack_features])\n",
    "        return X, y\n",
    "\n",
    "    def fit(df):\n",
    "        X, y = prepare_df(df)\n",
    "        model = OneClassSVM(nu=2.5247696078015696e-05, kernel='poly', gamma='auto', degree=3)\n",
    "        model = model.fit(X.to_numpy())\n",
    "    \n",
    "        scores = model.score_samples(X.to_numpy())\n",
    "        th = comp_threshold(scores)\n",
    "        return model, th\n",
    "    \n",
    "    df_part = df[~df['Label'].isin(attack_to_exclude)]\n",
    "    model, th = fit(df_part)\n",
    "    \n",
    "    X, y = prepare_df(df)\n",
    "    \n",
    "    report = metrics.ClassificationReport()\n",
    "    result = {\"Label\": [], \"Score\": [], \"is_anomaly\": []}\n",
    "    for x, yi1 in tqdm(stream.iter_pandas(X, y), total=y.shape[0], leave=False):\n",
    "        x = np.array(list(x.values())).reshape(1, -1)\n",
    "        result[\"Label\"].append(yi1)\n",
    "        is_anomaly = model.predict(x)[0] == -1\n",
    "        result[\"is_anomaly\"].append(is_anomaly)\n",
    "        report.update(yi1 in attack_to_exclude, is_anomaly)\n",
    "        \n",
    "    print(report)\n",
    "    return report, \"OCSVM\""
   ]
  },
  {
   "cell_type": "code",
   "execution_count": 70,
   "id": "5adfebce",
   "metadata": {},
   "outputs": [],
   "source": [
    "def test_ood_LocalOutlierFactor(df, attack_to_exclude):\n",
    "    def prepare_df(df):\n",
    "        X = df[webattack_features]\n",
    "        y = df['Label']\n",
    "        return X, y\n",
    "    \n",
    "    def fit(df):\n",
    "        X, y = prepare_df(df)\n",
    "        model = LocalOutlierFactor(novelty=True, n_neighbors=50, algorithm='brute', leaf_size=18, p=2)\n",
    "        # for x, yil in tqdm(stream.iter_pandas(X, y), total=y.shape[0], leave=False):\n",
    "        #     x = np.array(list(x.values())).reshape(1, -1)\n",
    "        #     model = model.fit(x)\n",
    "        model = model.fit(X.to_numpy())\n",
    "        return model\n",
    "    \n",
    "    df_part = df[~df['Label'].isin(attack_to_exclude)]\n",
    "    model = fit(df_part)\n",
    "    \n",
    "    X, y = prepare_df(df)\n",
    "    \n",
    "    report = metrics.ClassificationReport()\n",
    "    result = {\"Label\": [], \"Score\": [], \"is_anomaly\": []}\n",
    "    for x, yi1 in tqdm(stream.iter_pandas(X, y), total=y.shape[0], leave=False):\n",
    "        x = np.array(list(x.values())).reshape(1, -1)\n",
    "        result[\"Label\"].append(yi1)\n",
    "        is_anomaly = model.predict(x)[0] == -1\n",
    "        result[\"is_anomaly\"].append(is_anomaly)\n",
    "        report.update(yi1 in attack_to_exclude, is_anomaly)\n",
    "        \n",
    "    print(report)\n",
    "    return report, \"LOF\""
   ]
  },
  {
   "cell_type": "code",
   "execution_count": 71,
   "id": "eda3513d",
   "metadata": {},
   "outputs": [],
   "source": [
    "def test_ood_IsolationForest(df, attack_to_exclude):\n",
    "    def prepare_df(df):\n",
    "        X = df[webattack_features]\n",
    "        y = df['Label']\n",
    "        return X, y\n",
    "    \n",
    "    def fit(df):\n",
    "        X, y = prepare_df(df)\n",
    "        model = IsolationForest(n_estimators=35, max_features=0.2396517137577818)\n",
    "        # for x, yil in tqdm(stream.iter_pandas(X, y), total=y.shape[0], leave=False):\n",
    "        #     x = np.array(list(x.values())).reshape(1, -1)\n",
    "        #     model = model.fit(x)\n",
    "        model = model.fit(X.to_numpy())\n",
    "        return model\n",
    "    \n",
    "    df_part = df[~df['Label'].isin(attack_to_exclude)]\n",
    "    model = fit(df_part)\n",
    "    \n",
    "    X, y = prepare_df(df)\n",
    "    \n",
    "    report = metrics.ClassificationReport()\n",
    "    result = {\"Label\": [], \"Score\": [], \"is_anomaly\": []}\n",
    "    for x, yi1 in tqdm(stream.iter_pandas(X, y), total=y.shape[0], leave=False):\n",
    "        x = np.array(list(x.values())).reshape(1, -1)\n",
    "        result[\"Label\"].append(yi1)\n",
    "        is_anomaly = model.predict(x)[0] == -1\n",
    "        result[\"is_anomaly\"].append(is_anomaly)\n",
    "        report.update(yi1 in attack_to_exclude, is_anomaly)\n",
    "        \n",
    "    print(report)\n",
    "    return report, \"IF\""
   ]
  },
  {
   "cell_type": "code",
   "execution_count": 72,
   "id": "696cc58f",
   "metadata": {},
   "outputs": [],
   "source": [
    "class AnsambleOOD:\n",
    "    def __init__(self, models: list):\n",
    "        self.models = models\n",
    "        \n",
    "    def fit(self, X):\n",
    "        for model in self.models:\n",
    "            model.fit(X)\n",
    "        return self\n",
    "            \n",
    "    def predict(self, X):\n",
    "        scores = np.zeros(X.shape[0])\n",
    "        for model in self.models:\n",
    "            scores += model.predict(X)\n",
    "        return scores"
   ]
  },
  {
   "cell_type": "code",
   "execution_count": 73,
   "id": "bb7d029b",
   "metadata": {},
   "outputs": [],
   "source": [
    "def test_ood_AnsambleOOD(df, attack_to_exclude):\n",
    "    def prepare_df(df):\n",
    "        X = df[webattack_features]\n",
    "        y = df['Label']\n",
    "        return X, y\n",
    "    \n",
    "    def fit(df):\n",
    "        X, y = prepare_df(df)\n",
    "        model = AnsambleOOD([\n",
    "            # OneClassSVM(kernel='rbf', gamma='auto', nu=0.01),\n",
    "            OneClassSVM(nu=0.6011613204478358, kernel='linear', gamma='scale'),\n",
    "            LocalOutlierFactor(novelty=True),\n",
    "            IsolationForest()\n",
    "        ])\n",
    "        model = model.fit(X.to_numpy())\n",
    "        return model\n",
    "    \n",
    "    df_part = df[~df['Label'].isin(attack_to_exclude)]\n",
    "    model = fit(df_part)\n",
    "    \n",
    "    X, y = prepare_df(df)\n",
    "    \n",
    "    report = metrics.ClassificationReport()\n",
    "    result = {\"Label\": [], \"Score\": [], \"is_anomaly\": []}\n",
    "    for x, yi1 in tqdm(stream.iter_pandas(X, y), total=y.shape[0], leave=False):\n",
    "        x = np.array(list(x.values())).reshape(1, -1)\n",
    "        result[\"Label\"].append(yi1)\n",
    "        is_anomaly = model.predict(x)[0] < 0\n",
    "        result[\"is_anomaly\"].append(is_anomaly)\n",
    "        report.update(yi1 in attack_to_exclude, is_anomaly)\n",
    "        \n",
    "    print(report)\n",
    "    return report, \"Ansamble\""
   ]
  },
  {
   "cell_type": "code",
   "execution_count": null,
   "id": "e7224582",
   "metadata": {
    "scrolled": true
   },
   "outputs": [
    {
     "data": {
      "application/vnd.jupyter.widget-view+json": {
       "model_id": "6a986b4f9d3b4bc48b81d5bb85759c20",
       "version_major": 2,
       "version_minor": 0
      },
      "text/plain": [
       "  0%|          | 0/7 [00:00<?, ?it/s]"
      ]
     },
     "metadata": {},
     "output_type": "display_data"
    },
    {
     "data": {
      "application/vnd.jupyter.widget-view+json": {
       "model_id": "",
       "version_major": 2,
       "version_minor": 0
      },
      "text/plain": [
       "  0%|          | 0/14843 [00:00<?, ?it/s]"
      ]
     },
     "metadata": {},
     "output_type": "display_data"
    },
    {
     "name": "stdout",
     "output_type": "stream",
     "text": [
      "           Precision   Recall   F1       Support  \n",
      "                                                  \n",
      "   False      73.61%   99.99%   84.80%     10925  \n",
      "    True      66.67%    0.05%    0.10%      3918  \n",
      "                                                  \n",
      "   Macro      70.14%   50.02%   42.45%            \n",
      "   Micro      73.61%   73.61%   73.61%            \n",
      "Weighted      71.78%   73.61%   62.44%            \n",
      "\n",
      "                 73.61% accuracy                  \n"
     ]
    },
    {
     "data": {
      "application/vnd.jupyter.widget-view+json": {
       "model_id": "",
       "version_major": 2,
       "version_minor": 0
      },
      "text/plain": [
       "  0%|          | 0/14843 [00:00<?, ?it/s]"
      ]
     },
     "metadata": {},
     "output_type": "display_data"
    },
    {
     "name": "stdout",
     "output_type": "stream",
     "text": [
      "           Precision   Recall   F1       Support  \n",
      "                                                  \n",
      "   False      93.91%   99.99%   96.86%     13360  \n",
      "    True      99.84%   41.60%   58.73%      1483  \n",
      "                                                  \n",
      "   Macro      96.88%   70.80%   77.80%            \n",
      "   Micro      94.16%   94.16%   94.16%            \n",
      "Weighted      94.50%   94.16%   93.05%            \n",
      "\n",
      "                 94.16% accuracy                  \n"
     ]
    },
    {
     "data": {
      "application/vnd.jupyter.widget-view+json": {
       "model_id": "",
       "version_major": 2,
       "version_minor": 0
      },
      "text/plain": [
       "  0%|          | 0/14843 [00:00<?, ?it/s]"
      ]
     },
     "metadata": {},
     "output_type": "display_data"
    },
    {
     "name": "stdout",
     "output_type": "stream",
     "text": [
      "           Precision   Recall   F1       Support  \n",
      "                                                  \n",
      "   False      99.60%   99.99%   99.79%     14783  \n",
      "    True       0.00%    0.00%    0.00%        60  \n",
      "                                                  \n",
      "   Macro      49.80%   50.00%   49.90%            \n",
      "   Micro      99.59%   99.59%   99.59%            \n",
      "Weighted      99.19%   99.59%   99.39%            \n",
      "\n",
      "                 99.59% accuracy                  \n"
     ]
    }
   ],
   "source": [
    "result1 = test(df, attacks, benign, test_ood_OneClassSVM)"
   ]
  },
  {
   "cell_type": "code",
   "execution_count": null,
   "id": "c0486ad0",
   "metadata": {
    "scrolled": true
   },
   "outputs": [],
   "source": [
    "result2 = test(df, attacks, benign, test_ood_IsolationForest)"
   ]
  },
  {
   "cell_type": "code",
   "execution_count": null,
   "id": "7c896886",
   "metadata": {
    "scrolled": true
   },
   "outputs": [],
   "source": [
    "result3 = test(df, attacks, benign, test_ood_LocalOutlierFactor)"
   ]
  },
  {
   "cell_type": "code",
   "execution_count": null,
   "id": "b2f45088",
   "metadata": {
    "scrolled": true
   },
   "outputs": [],
   "source": [
    "result_a = test(df, attacks, benign, test_ood_AnsambleOOD)"
   ]
  },
  {
   "cell_type": "code",
   "execution_count": null,
   "id": "539b5684-cf1c-482c-9de9-d40003a209db",
   "metadata": {},
   "outputs": [],
   "source": [
    "result_a"
   ]
  },
  {
   "cell_type": "code",
   "execution_count": null,
   "id": "79728535-67e9-448f-a9e3-d5502edcad2c",
   "metadata": {},
   "outputs": [],
   "source": [
    "results_list = [result1, result2, result3, result_a]"
   ]
  },
  {
   "cell_type": "code",
   "execution_count": null,
   "id": "41905746-d7bb-4df4-89a5-0f9a21f21ab7",
   "metadata": {},
   "outputs": [],
   "source": [
    "results = pd.DataFrame()\n",
    "results[\"Label\"] = (result1.index).map(lambda x: x[13:])\n",
    "for result in results_list:\n",
    "    name = result.columns[0][0]\n",
    "    print(name)\n",
    "    a = (result[name]['recall for anomaly']*100).round(1)\n",
    "    b = (result[name]['f1 for normal']*100).round(1)\n",
    "    results[name] = a.combine(b, lambda x, y: f\"{x}/{y}\").reset_index(drop=True)\n",
    "results"
   ]
  },
  {
   "cell_type": "code",
   "execution_count": null,
   "id": "e16b05cb",
   "metadata": {},
   "outputs": [],
   "source": [
    "# result = pd.merge(result1, result2, left_index=True, right_index=True)\n",
    "# result = pd.merge(result, result3, left_index=True, right_index=True)\n",
    "# result = pd.merge(result, result_a, left_index=True, right_index=True)\n",
    "# display(result)\n",
    "# display(pd.DataFrame({\"max\": result.max(), \"min\": result.min(), \"mean\": result.mean()}))"
   ]
  },
  {
   "cell_type": "code",
   "execution_count": null,
   "id": "7df9337a-209e-4075-b71e-bf20a95ccb77",
   "metadata": {},
   "outputs": [],
   "source": [
    "# result = result.round(3)"
   ]
  },
  {
   "cell_type": "code",
   "execution_count": null,
   "id": "16053ddc-d4f7-4bc3-84da-0a662ed8c1c0",
   "metadata": {},
   "outputs": [],
   "source": [
    "# result.index = result.index.map(lambda s: s[13:])"
   ]
  },
  {
   "cell_type": "code",
   "execution_count": 47,
   "id": "32495d3c-9f3e-4ad9-a1a7-3141e72a3642",
   "metadata": {},
   "outputs": [
    {
     "data": {
      "text/html": [
       "<div>\n",
       "<style scoped>\n",
       "    .dataframe tbody tr th:only-of-type {\n",
       "        vertical-align: middle;\n",
       "    }\n",
       "\n",
       "    .dataframe tbody tr th {\n",
       "        vertical-align: top;\n",
       "    }\n",
       "\n",
       "    .dataframe thead tr th {\n",
       "        text-align: left;\n",
       "    }\n",
       "\n",
       "    .dataframe thead tr:last-of-type th {\n",
       "        text-align: right;\n",
       "    }\n",
       "</style>\n",
       "<table border=\"1\" class=\"dataframe\">\n",
       "  <thead>\n",
       "    <tr>\n",
       "      <th></th>\n",
       "      <th colspan=\"2\" halign=\"left\">OCSVM</th>\n",
       "    </tr>\n",
       "    <tr>\n",
       "      <th></th>\n",
       "      <th>recall for anomaly</th>\n",
       "      <th>f1 for normal</th>\n",
       "    </tr>\n",
       "    <tr>\n",
       "      <th>Label</th>\n",
       "      <th></th>\n",
       "      <th></th>\n",
       "    </tr>\n",
       "  </thead>\n",
       "  <tbody>\n",
       "    <tr>\n",
       "      <th>Web Attack - DDoS</th>\n",
       "      <td>0.518121</td>\n",
       "      <td>0.919327</td>\n",
       "    </tr>\n",
       "    <tr>\n",
       "      <th>Web Attack - SQL Injection</th>\n",
       "      <td>0.532030</td>\n",
       "      <td>0.973674</td>\n",
       "    </tr>\n",
       "    <tr>\n",
       "      <th>Web Attack - CSRF</th>\n",
       "      <td>0.000000</td>\n",
       "      <td>0.996891</td>\n",
       "    </tr>\n",
       "    <tr>\n",
       "      <th>Web Attack - Brute Force</th>\n",
       "      <td>0.000000</td>\n",
       "      <td>0.981892</td>\n",
       "    </tr>\n",
       "    <tr>\n",
       "      <th>Web Attack - Web Shell</th>\n",
       "      <td>0.000000</td>\n",
       "      <td>0.986895</td>\n",
       "    </tr>\n",
       "    <tr>\n",
       "      <th>Web Attack - XSS</th>\n",
       "      <td>0.001489</td>\n",
       "      <td>0.899470</td>\n",
       "    </tr>\n",
       "    <tr>\n",
       "      <th>Web Attack - Command Injection</th>\n",
       "      <td>0.000000</td>\n",
       "      <td>0.949428</td>\n",
       "    </tr>\n",
       "  </tbody>\n",
       "</table>\n",
       "</div>"
      ],
      "text/plain": [
       "                                            OCSVM              \n",
       "                               recall for anomaly f1 for normal\n",
       "Label                                                          \n",
       "Web Attack - DDoS                        0.518121      0.919327\n",
       "Web Attack - SQL Injection               0.532030      0.973674\n",
       "Web Attack - CSRF                        0.000000      0.996891\n",
       "Web Attack - Brute Force                 0.000000      0.981892\n",
       "Web Attack - Web Shell                   0.000000      0.986895\n",
       "Web Attack - XSS                         0.001489      0.899470\n",
       "Web Attack - Command Injection           0.000000      0.949428"
      ]
     },
     "execution_count": 47,
     "metadata": {},
     "output_type": "execute_result"
    }
   ],
   "source": [
    "result1"
   ]
  },
  {
   "cell_type": "code",
   "execution_count": 150,
   "id": "ab12e5a8",
   "metadata": {},
   "outputs": [],
   "source": [
    "results.to_csv('ood-results.csv', index=False)"
   ]
  },
  {
   "cell_type": "code",
   "execution_count": 48,
   "id": "9891c35f-f408-4b8e-aebd-64120ef1e9bc",
   "metadata": {},
   "outputs": [],
   "source": [
    "results = pd.read_csv('ood-results.csv', header=[0, 1], index_col=0)"
   ]
  },
  {
   "cell_type": "code",
   "execution_count": 49,
   "id": "fdb86852-a285-4048-9c8b-0129f07f51cb",
   "metadata": {},
   "outputs": [
    {
     "data": {
      "text/html": [
       "<div>\n",
       "<style scoped>\n",
       "    .dataframe tbody tr th:only-of-type {\n",
       "        vertical-align: middle;\n",
       "    }\n",
       "\n",
       "    .dataframe tbody tr th {\n",
       "        vertical-align: top;\n",
       "    }\n",
       "\n",
       "    .dataframe thead tr th {\n",
       "        text-align: left;\n",
       "    }\n",
       "</style>\n",
       "<table border=\"1\" class=\"dataframe\">\n",
       "  <thead>\n",
       "    <tr>\n",
       "      <th>Label</th>\n",
       "      <th>OCSVM</th>\n",
       "      <th>IF</th>\n",
       "      <th>LOF</th>\n",
       "      <th>Ansamble</th>\n",
       "    </tr>\n",
       "    <tr>\n",
       "      <th>XSS - xsstrike</th>\n",
       "      <th>100.0/38.8</th>\n",
       "      <th>0.0/88.7</th>\n",
       "      <th>16.4/88.5</th>\n",
       "      <th>16.4/85.6</th>\n",
       "    </tr>\n",
       "  </thead>\n",
       "  <tbody>\n",
       "    <tr>\n",
       "      <th>XSS</th>\n",
       "      <td>100.0/38.6</td>\n",
       "      <td>1.7/87.1</td>\n",
       "      <td>73.3/92.2</td>\n",
       "      <td>74.8/89.5</td>\n",
       "    </tr>\n",
       "  </tbody>\n",
       "</table>\n",
       "</div>"
      ],
      "text/plain": [
       "Label                OCSVM        IF        LOF   Ansamble\n",
       "XSS - xsstrike  100.0/38.8  0.0/88.7  16.4/88.5  16.4/85.6\n",
       "XSS             100.0/38.6  1.7/87.1  73.3/92.2  74.8/89.5"
      ]
     },
     "execution_count": 49,
     "metadata": {},
     "output_type": "execute_result"
    }
   ],
   "source": [
    "results"
   ]
  },
  {
   "cell_type": "code",
   "execution_count": null,
   "id": "9b10b421-eba2-40b9-a3dc-4b0fa5cb9e38",
   "metadata": {},
   "outputs": [],
   "source": []
  }
 ],
 "metadata": {
  "kernelspec": {
   "display_name": "attack-detection",
   "language": "python",
   "name": "attack-detection"
  },
  "language_info": {
   "codemirror_mode": {
    "name": "ipython",
    "version": 3
   },
   "file_extension": ".py",
   "mimetype": "text/x-python",
   "name": "python",
   "nbconvert_exporter": "python",
   "pygments_lexer": "ipython3",
   "version": "3.10.14"
  }
 },
 "nbformat": 4,
 "nbformat_minor": 5
}
