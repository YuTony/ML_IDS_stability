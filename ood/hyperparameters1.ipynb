{
 "cells": [
  {
   "cell_type": "code",
   "execution_count": 26,
   "id": "4950292a-478a-49ad-bdd1-87d1dd09b628",
   "metadata": {
    "scrolled": true
   },
   "outputs": [
    {
     "name": "stdout",
     "output_type": "stream",
     "text": [
      "Defaulting to user installation because normal site-packages is not writeable\n",
      "Requirement already satisfied: pandas in /home/jupyter-yutony/.local/lib/python3.10/site-packages (2.2.2)\n",
      "Requirement already satisfied: scikit-learn in /home/jupyter-yutony/.local/lib/python3.10/site-packages (1.5.1)\n",
      "Requirement already satisfied: seaborn in /home/jupyter-yutony/.local/lib/python3.10/site-packages (0.13.2)\n",
      "Requirement already satisfied: optuna in /home/jupyter-yutony/.local/lib/python3.10/site-packages (3.6.1)\n",
      "Requirement already satisfied: matplotlib in /home/jupyter-yutony/.local/lib/python3.10/site-packages (3.9.2)\n",
      "Requirement already satisfied: river in /home/jupyter-yutony/.local/lib/python3.10/site-packages (0.21.2)\n",
      "Requirement already satisfied: optuna-dashboard in /home/jupyter-yutony/.local/lib/python3.10/site-packages (0.16.0)\n",
      "Requirement already satisfied: numpy>=1.22.4 in /home/jupyter-yutony/.local/lib/python3.10/site-packages (from pandas) (1.26.4)\n",
      "Requirement already satisfied: python-dateutil>=2.8.2 in /opt/tljh/user/lib/python3.10/site-packages (from pandas) (2.9.0.post0)\n",
      "Requirement already satisfied: pytz>=2020.1 in /home/jupyter-yutony/.local/lib/python3.10/site-packages (from pandas) (2024.1)\n",
      "Requirement already satisfied: tzdata>=2022.7 in /opt/tljh/user/lib/python3.10/site-packages (from pandas) (2024.1)\n",
      "Requirement already satisfied: scipy>=1.6.0 in /home/jupyter-yutony/.local/lib/python3.10/site-packages (from scikit-learn) (1.14.0)\n",
      "Requirement already satisfied: joblib>=1.2.0 in /home/jupyter-yutony/.local/lib/python3.10/site-packages (from scikit-learn) (1.4.2)\n",
      "Requirement already satisfied: threadpoolctl>=3.1.0 in /home/jupyter-yutony/.local/lib/python3.10/site-packages (from scikit-learn) (3.5.0)\n",
      "Requirement already satisfied: alembic>=1.5.0 in /opt/tljh/user/lib/python3.10/site-packages (from optuna) (1.13.1)\n",
      "Requirement already satisfied: colorlog in /home/jupyter-yutony/.local/lib/python3.10/site-packages (from optuna) (6.8.2)\n",
      "Requirement already satisfied: packaging>=20.0 in /opt/tljh/user/lib/python3.10/site-packages (from optuna) (24.1)\n",
      "Requirement already satisfied: sqlalchemy>=1.3.0 in /opt/tljh/user/lib/python3.10/site-packages (from optuna) (2.0.31)\n",
      "Requirement already satisfied: tqdm in /opt/tljh/user/lib/python3.10/site-packages (from optuna) (4.65.0)\n",
      "Requirement already satisfied: PyYAML in /opt/tljh/user/lib/python3.10/site-packages (from optuna) (6.0.1)\n",
      "Requirement already satisfied: contourpy>=1.0.1 in /home/jupyter-yutony/.local/lib/python3.10/site-packages (from matplotlib) (1.2.1)\n",
      "Requirement already satisfied: cycler>=0.10 in /home/jupyter-yutony/.local/lib/python3.10/site-packages (from matplotlib) (0.12.1)\n",
      "Requirement already satisfied: fonttools>=4.22.0 in /home/jupyter-yutony/.local/lib/python3.10/site-packages (from matplotlib) (4.53.1)\n",
      "Requirement already satisfied: kiwisolver>=1.3.1 in /home/jupyter-yutony/.local/lib/python3.10/site-packages (from matplotlib) (1.4.5)\n",
      "Requirement already satisfied: pillow>=8 in /home/jupyter-yutony/.local/lib/python3.10/site-packages (from matplotlib) (10.4.0)\n",
      "Requirement already satisfied: pyparsing>=2.3.1 in /opt/tljh/user/lib/python3.10/site-packages (from matplotlib) (3.1.2)\n",
      "Requirement already satisfied: bottle in /home/jupyter-yutony/.local/lib/python3.10/site-packages (from optuna-dashboard) (0.12.25)\n",
      "Requirement already satisfied: Mako in /opt/tljh/user/lib/python3.10/site-packages (from alembic>=1.5.0->optuna) (1.3.5)\n",
      "Requirement already satisfied: typing-extensions>=4 in /opt/tljh/user/lib/python3.10/site-packages (from alembic>=1.5.0->optuna) (4.12.2)\n",
      "Requirement already satisfied: six>=1.5 in /opt/tljh/user/lib/python3.10/site-packages (from python-dateutil>=2.8.2->pandas) (1.16.0)\n",
      "Requirement already satisfied: greenlet!=0.4.17 in /opt/tljh/user/lib/python3.10/site-packages (from sqlalchemy>=1.3.0->optuna) (3.0.3)\n",
      "Requirement already satisfied: MarkupSafe>=0.9.2 in /opt/tljh/user/lib/python3.10/site-packages (from Mako->alembic>=1.5.0->optuna) (2.1.5)\n",
      "\n",
      "\u001b[1m[\u001b[0m\u001b[34;49mnotice\u001b[0m\u001b[1;39;49m]\u001b[0m\u001b[39;49m A new release of pip is available: \u001b[0m\u001b[31;49m24.1\u001b[0m\u001b[39;49m -> \u001b[0m\u001b[32;49m24.2\u001b[0m\n",
      "\u001b[1m[\u001b[0m\u001b[34;49mnotice\u001b[0m\u001b[1;39;49m]\u001b[0m\u001b[39;49m To update, run: \u001b[0m\u001b[32;49mpip install --upgrade pip\u001b[0m\n",
      "Note: you may need to restart the kernel to use updated packages.\n"
     ]
    }
   ],
   "source": [
    "%pip install pandas scikit-learn seaborn optuna matplotlib river optuna-dashboard"
   ]
  },
  {
   "cell_type": "code",
   "execution_count": 4,
   "id": "ea06edca-3f77-40ab-a8cf-082962e692de",
   "metadata": {},
   "outputs": [],
   "source": [
    "import pandas as pd\n",
    "import numpy as np\n",
    "from sklearn.model_selection import train_test_split\n",
    "from sklearn.metrics import accuracy_score, precision_score, recall_score, f1_score\n",
    "from tqdm.auto import tqdm\n",
    "import matplotlib.pyplot as plt\n",
    "# import lightgbm as lgb\n",
    "import seaborn as sns\n",
    "import optuna\n",
    "import os\n",
    "import sys\n",
    "import datetime"
   ]
  },
  {
   "cell_type": "code",
   "execution_count": 5,
   "id": "091cf143-6f9a-4de8-9cdc-43c59d24a580",
   "metadata": {},
   "outputs": [],
   "source": [
    "from river import anomaly\n",
    "from river import stream\n",
    "from river import evaluate\n",
    "from river import metrics\n",
    "from river import compose\n",
    "from river import preprocessing\n",
    "from river import evaluate"
   ]
  },
  {
   "cell_type": "code",
   "execution_count": 6,
   "id": "77f337a4-21bb-4942-885d-295766dc0236",
   "metadata": {},
   "outputs": [],
   "source": [
    "from sklearn.svm import OneClassSVM\n",
    "from sklearn.neighbors import LocalOutlierFactor\n",
    "from sklearn.metrics import classification_report\n",
    "from sklearn.preprocessing import MinMaxScaler\n",
    "from sklearn.ensemble import IsolationForest\n",
    "from sklearn.preprocessing import LabelEncoder, StandardScaler\n",
    "from sklearn.utils import shuffle"
   ]
  },
  {
   "cell_type": "code",
   "execution_count": 7,
   "id": "0d99c68f-c20e-4adb-add7-022f3ddc1f0a",
   "metadata": {},
   "outputs": [],
   "source": [
    "PROJECT_ROOT                     = \"../\"\n",
    "OPTUNA_STORAGE                   = \"sqlite:///db.sqlite3\"\n",
    "\n",
    "SOURCE_DATASET_ROOT              = PROJECT_ROOT + \"datasets/isp3/\"\n",
    "\n",
    "SOURCE_DATASET_FILENAME          = SOURCE_DATASET_ROOT + \"[dvwa.isp_xvwa.isp]_https_apache.csv\"\n",
    "SOURCE_DATASET_FILENAME_D        = SOURCE_DATASET_ROOT + \"[dvwa.isp]_https_apache.csv\"\n",
    "SOURCE_DATASET_FILENAME_X        = SOURCE_DATASET_ROOT + \"[xvwa.isp]_https_apache.csv\"\n",
    "# SOURCE_DATASET_TRAIN_FILENAME    = SOURCE_DATASET_ROOT + \"DataSetN_Train.csv\"\n",
    "# SOURCE_DATASET_TEST_FILENAME     = SOURCE_DATASET_ROOT + \"DataSetN_Test.csv\""
   ]
  },
  {
   "cell_type": "markdown",
   "id": "59ea107e-0301-4121-907e-9d4961b0ea95",
   "metadata": {},
   "source": [
    "# Фичи"
   ]
  },
  {
   "cell_type": "code",
   "execution_count": 8,
   "id": "a6140419-16dd-42d5-958f-f210a9e5e837",
   "metadata": {},
   "outputs": [
    {
     "name": "stderr",
     "output_type": "stream",
     "text": [
      "/tmp/ipykernel_1457423/3322869287.py:1: DtypeWarning: Columns (3,103,121) have mixed types. Specify dtype option on import or set low_memory=False.\n",
      "  df = pd.read_csv(SOURCE_DATASET_FILENAME)\n"
     ]
    },
    {
     "data": {
      "text/plain": [
       "Label\n",
       "Web Attack - DDoS                 65295\n",
       "Benign                             4446\n",
       "Web Attack - XSS                   2686\n",
       "Web Attack - SQL Injection         1483\n",
       "Web Attack - Command Injection     1400\n",
       "Web Attack - Brute Force            497\n",
       "Web Attack - Web Shell              353\n",
       "Web Attack - CSRF                    60\n",
       "Name: count, dtype: int64"
      ]
     },
     "execution_count": 8,
     "metadata": {},
     "output_type": "execute_result"
    }
   ],
   "source": [
    "df = pd.read_csv(SOURCE_DATASET_FILENAME)\n",
    "df['Label'].value_counts()"
   ]
  },
  {
   "cell_type": "code",
   "execution_count": 9,
   "id": "b190b54e-5a47-4769-9882-7ff7e1474d9b",
   "metadata": {},
   "outputs": [],
   "source": [
    "excluded = ['Flow_ID', 'Source_IP', 'Source_Port', 'Destination_IP', 'Destination_Port', 'Protocol', 'Timestamp', \"Unnamed: 0\", \"xvwa.isp\", \"Label\", \"dvwa.isp\"]\n",
    "df = df.drop(columns=excluded, errors='ignore')"
   ]
  },
  {
   "cell_type": "code",
   "execution_count": 10,
   "id": "b3fdaa68-d84c-4231-9e00-7bcc06358b6b",
   "metadata": {},
   "outputs": [],
   "source": [
    "excluded2 = ['Session_Index',  'Target','Http_Reqest','Root','GlobalLabel','Type','Tools','ToolsThreads','ToolsDelay','ToolsAdditional',\n",
    "             'ChannelSpeedBefore','ChannelSpeedAfter','NetemString','Server','KeepAliveTimeout','TargetProtocol','File','SessionAnalizerMode']\n",
    "df = df.drop(columns=excluded2)"
   ]
  },
  {
   "cell_type": "code",
   "execution_count": 11,
   "id": "bd3c2491-ab5a-41b1-bc59-a87be6964b96",
   "metadata": {
    "scrolled": true
   },
   "outputs": [],
   "source": [
    "# webattack_features = list(df.columns)\n",
    "webattack_features = ['Flow_Duration',\n",
    " 'Total_Fwd_Packets',\n",
    " 'Fwd_Packet_Length_Max',\n",
    " 'Bwd_Packet_Length_Max',\n",
    " 'Flow_Bytes_s',\n",
    " 'Flow_Packets_s',\n",
    " 'Flow_IAT_Min',\n",
    " 'Fwd_IAT_Min',\n",
    " 'Bwd_IAT_Mean',\n",
    " 'Bwd_IAT_Std',\n",
    " 'Bwd_IAT_Min',\n",
    " 'Packet_Length_Variance',\n",
    " 'Fwd_FIN_Flags',\n",
    " 'Fwd_SYN_Flags',\n",
    " 'Fwd_RST_Flags',\n",
    " 'Bwd_FIN_Flags',\n",
    " 'Stream_Session_Number',\n",
    " 'Stream_Was_Prev_Session',\n",
    " 'Stream_Was_Next_Session',\n",
    " 'Stream_Session_Intervals_Min_Duration',\n",
    " 'Stream_Session_Intervals_Std_Duration',\n",
    " 'Stream_Session_Durations_Min_Duration',\n",
    " 'Stream_Session_Durations_Max_Duration',\n",
    " 'Fwd_Bandwidth_Max',\n",
    " 'Bwd_Bandwidth_Min',\n",
    " 'Bwd_Bandwidth_Max']"
   ]
  },
  {
   "cell_type": "code",
   "execution_count": 12,
   "id": "55ae9314-aa3a-44fd-8f21-2b26781913e8",
   "metadata": {},
   "outputs": [
    {
     "name": "stderr",
     "output_type": "stream",
     "text": [
      "/tmp/ipykernel_1457423/3322869287.py:1: DtypeWarning: Columns (3,103,121) have mixed types. Specify dtype option on import or set low_memory=False.\n",
      "  df = pd.read_csv(SOURCE_DATASET_FILENAME)\n"
     ]
    },
    {
     "data": {
      "text/plain": [
       "Label\n",
       "Web Attack - DDoS                 65295\n",
       "Benign                             4446\n",
       "Web Attack - XSS                   2686\n",
       "Web Attack - SQL Injection         1483\n",
       "Web Attack - Command Injection     1400\n",
       "Web Attack - Brute Force            497\n",
       "Web Attack - Web Shell              353\n",
       "Web Attack - CSRF                    60\n",
       "Name: count, dtype: int64"
      ]
     },
     "execution_count": 12,
     "metadata": {},
     "output_type": "execute_result"
    }
   ],
   "source": [
    "df = pd.read_csv(SOURCE_DATASET_FILENAME)\n",
    "df['Label'].value_counts()"
   ]
  },
  {
   "cell_type": "code",
   "execution_count": 13,
   "id": "91f2588e-de79-4656-8ce0-2204b1a6ab8c",
   "metadata": {},
   "outputs": [
    {
     "data": {
      "text/plain": [
       "Label\n",
       "Benign                            4446\n",
       "Web Attack - DDoS                 3918\n",
       "Web Attack - XSS                  2686\n",
       "Web Attack - SQL Injection        1483\n",
       "Web Attack - Command Injection    1400\n",
       "Web Attack - Brute Force           497\n",
       "Web Attack - Web Shell             353\n",
       "Web Attack - CSRF                   60\n",
       "Name: count, dtype: int64"
      ]
     },
     "execution_count": 13,
     "metadata": {},
     "output_type": "execute_result"
    }
   ],
   "source": [
    "label_rows = df[df['Label'] == 'Web Attack - DDoS']\n",
    "rows_to_remove = label_rows.sample(frac=0.94, random_state=42)\n",
    "df = df.drop(index=rows_to_remove.index)\n",
    "df['Label'].value_counts()"
   ]
  },
  {
   "cell_type": "code",
   "execution_count": 14,
   "id": "04da4170-6cdb-4c64-8ed8-8bdb1fb5a0ec",
   "metadata": {},
   "outputs": [],
   "source": [
    "# g = df.groupby('Label')\n",
    "# g = g.apply(lambda x: x.sample(g.size().min()).reset_index(drop=True))\n",
    "# df = g.reset_index(drop=True)"
   ]
  },
  {
   "cell_type": "code",
   "execution_count": 15,
   "id": "22fa20c3-f240-47ac-9f28-53ab933ca716",
   "metadata": {},
   "outputs": [],
   "source": [
    "attacks = {\n",
    "    'Web Attack - XSS',\n",
    "    'Web Attack - CSRF',\n",
    "    'Web Attack - Brute Force',\n",
    "    'Web Attack - Web Shell',\n",
    "    'Web Attack - Command Injection',\n",
    "    'Web Attack - SQL Injection',\n",
    "    'Web Attack - DDoS'\n",
    "}\n",
    "\n",
    "attack_to_exclude = {'Web Attack - Web Shell'}\n",
    "\n",
    "benign = {'Benign', 'FromInSide'}"
   ]
  },
  {
   "cell_type": "code",
   "execution_count": 16,
   "id": "59e4ffc4-b23d-43f4-89d7-1c39c1585274",
   "metadata": {},
   "outputs": [],
   "source": [
    "df['Label'] = df['Label'].replace(to_replace=benign, value='Benign')\n",
    "df_full = df[df['Label'].isin(attacks | benign)]\n",
    "df_part = df_full[~df_full['Label'].isin(attack_to_exclude)]"
   ]
  },
  {
   "cell_type": "code",
   "execution_count": 17,
   "id": "21b3a328-ee4a-4a0b-8782-2b191b8861be",
   "metadata": {},
   "outputs": [],
   "source": [
    "def prepare_dataset(df, train_size=0.2, test_size=0.8):\n",
    "    X = df[webattack_features]\n",
    "    y = df['Label']\n",
    "    if train_size == 0 and test_size == 1:\n",
    "        return [], X, [], y\n",
    "    else:\n",
    "        X_train, X_test, y_train, y_test = train_test_split(X,y, stratify=y, \n",
    "                                                            train_size=train_size, test_size=test_size, shuffle=True, random_state=0)\n",
    "    return X_train, X_test, y_train, y_test"
   ]
  },
  {
   "cell_type": "code",
   "execution_count": 18,
   "id": "8a9bad70-0a2a-4881-9428-b3fb6e0e68dd",
   "metadata": {},
   "outputs": [],
   "source": [
    "_, X_test1, _, y_test1 = prepare_dataset(df_part, train_size=0, test_size=1)"
   ]
  },
  {
   "cell_type": "code",
   "execution_count": 19,
   "id": "e20a5c70-1327-4c87-85df-7d046ec9c110",
   "metadata": {},
   "outputs": [],
   "source": [
    "_, X_test2, _, y_test2 = prepare_dataset(df_full, train_size=0, test_size=1)"
   ]
  },
  {
   "cell_type": "code",
   "execution_count": 20,
   "id": "14d7f837-d646-4bca-90e1-c83a46323e64",
   "metadata": {},
   "outputs": [
    {
     "data": {
      "text/plain": [
       "Label\n",
       "Benign                            4446\n",
       "Web Attack - DDoS                 3918\n",
       "Web Attack - XSS                  2686\n",
       "Web Attack - SQL Injection        1483\n",
       "Web Attack - Command Injection    1400\n",
       "Web Attack - Brute Force           497\n",
       "Web Attack - CSRF                   60\n",
       "Name: count, dtype: int64"
      ]
     },
     "execution_count": 20,
     "metadata": {},
     "output_type": "execute_result"
    }
   ],
   "source": [
    "df_part[\"Label\"].value_counts()"
   ]
  },
  {
   "cell_type": "markdown",
   "id": "c391f08f-fb61-4568-8b52-0e617a2edc24",
   "metadata": {},
   "source": [
    "# Выбор шиперпараметров"
   ]
  },
  {
   "cell_type": "code",
   "execution_count": 21,
   "id": "6800831d-65d6-44ad-9b6b-344502f643db",
   "metadata": {},
   "outputs": [],
   "source": [
    "disable_progressbar = True"
   ]
  },
  {
   "cell_type": "code",
   "execution_count": 22,
   "id": "d341424c-5414-4b1b-a2dc-9f8b7189bda9",
   "metadata": {},
   "outputs": [],
   "source": [
    "def add_result(result, key, val):\n",
    "    if key in result:\n",
    "        result[key].append(val)\n",
    "    else:\n",
    "        result[key] = [val]"
   ]
  },
  {
   "cell_type": "code",
   "execution_count": 23,
   "id": "48d0e346-215d-4703-adb6-b53285f24872",
   "metadata": {},
   "outputs": [],
   "source": [
    "def test(model, df, attacks, benign, test_ood):\n",
    "    df_full = df[df['Label'].isin(attacks | benign)]\n",
    "    result = {\"Label\": []}\n",
    "    for attack_to_exclude in tqdm(attacks, disable=disable_progressbar):\n",
    "        report, name = test_ood(model, df_full, {attack_to_exclude})\n",
    "        \n",
    "        result[\"Label\"].append(attack_to_exclude)\n",
    "        # add_result(result, name, f\"{report._f1s[True].recall.get()*100}/{report._f1s[False].get()*100}\")\n",
    "        add_result(result, \"recall for anomaly\", report._f1s[True].recall.get())\n",
    "        add_result(result, \"f1 for normal\", report._f1s[False].get())\n",
    "        add_result(result, \"all\", (result[\"recall for anomaly\"][-1]+result[\"f1 for normal\"][-1])/2)\n",
    "    result = pd.DataFrame(result)\n",
    "    result = result.set_index(\"Label\")\n",
    "    columns=[(name, c) for c in result.columns]\n",
    "    result.columns=pd.MultiIndex.from_tuples(columns)\n",
    "    return result[\"OCSVM\"][\"all\"].mean()"
   ]
  },
  {
   "cell_type": "code",
   "execution_count": 24,
   "id": "5b3a1869-8255-4371-a955-68fa4bf1f01f",
   "metadata": {},
   "outputs": [],
   "source": [
    "def test_ood_OneClassSVM(model, df, attack_to_exclude):\n",
    "    def comp_threshold(scores: np.ndarray):\n",
    "        for i in np.linspace(0.0, 0.9, num=50):\n",
    "            res = (scores<i).sum()/scores.shape[0]\n",
    "            if res>0.95:\n",
    "                return i\n",
    "    \n",
    "    def prepare_df(df, scaler=None):\n",
    "        X = df[webattack_features]\n",
    "        y = df['Label']\n",
    "        if scaler is None:\n",
    "            scaler = StandardScaler()\n",
    "            X = scaler.fit_transform(X)\n",
    "        else:\n",
    "            X = scaler.transform(X)\n",
    "        y = y.to_numpy()\n",
    "        return X, y, scaler\n",
    "\n",
    "    def fit(model, X, y):\n",
    "        # X, y = prepare_df(df)\n",
    "        # model = OneClassSVM(kernel='rbf', gamma='auto', nu=0.01)\n",
    "        model = model.fit(X)\n",
    "    \n",
    "        scores = model.score_samples(X)\n",
    "        th = comp_threshold(scores)\n",
    "        return model, th\n",
    "    \n",
    "    df_part = df[~df['Label'].isin(attack_to_exclude)]\n",
    "    df_target = df[df['Label'].isin(attack_to_exclude)]\n",
    "    \n",
    "    X, y, scaler = prepare_df(df_part)\n",
    "\n",
    "    X_train, X_test, y_train, y_test = train_test_split(X, y, stratify=y, \n",
    "                                                        train_size=0.5, test_size=0.5, \n",
    "                                                        shuffle=True, random_state=2024)\n",
    "\n",
    "    X_target, y_target, scaler = prepare_df(df_target, scaler)\n",
    "    \n",
    "    X_test = np.append(X_test, X_target, axis=0)\n",
    "    y_test = np.append(y_test, y_target, axis=0)\n",
    "    X_test, y_test = shuffle(X_test, y_test, random_state=2024)\n",
    "    \n",
    "    model, th = fit(model, X_train, y_train)\n",
    "    \n",
    "    report = metrics.ClassificationReport()\n",
    "    result = {\"Label\": [], \"Score\": [], \"is_anomaly\": []}\n",
    "    for x, yi1 in tqdm(stream.iter_array(X_test, y_test), total=y_test.shape[0], leave=False, disable=disable_progressbar):\n",
    "        x = np.array(list(x.values())).reshape(1, -1)\n",
    "        result[\"Label\"].append(yi1)\n",
    "        is_anomaly = model.predict(x)[0] == -1\n",
    "        result[\"is_anomaly\"].append(is_anomaly)\n",
    "        report.update(yi1 in attack_to_exclude, is_anomaly)\n",
    "    \n",
    "    f = open(os.devnull, 'w')\n",
    "    stdout_t, sys.stdout = sys.stdout, f\n",
    "    print(report)\n",
    "    sys.stdout = stdout_t\n",
    "    return report, \"OCSVM\""
   ]
  },
  {
   "cell_type": "code",
   "execution_count": 25,
   "id": "0da882f6-6616-44e4-afd0-a5abc51486f9",
   "metadata": {},
   "outputs": [
    {
     "name": "stderr",
     "output_type": "stream",
     "text": [
      "UsageError: Line magic function `%optuna-dashboard` not found.\n"
     ]
    }
   ],
   "source": [
    "%optuna-dashboard sqlite:///db.sqlite3"
   ]
  },
  {
   "cell_type": "code",
   "execution_count": 23,
   "id": "a010fa7a-447d-445e-84f1-91b1951930f8",
   "metadata": {
    "scrolled": true
   },
   "outputs": [
    {
     "name": "stderr",
     "output_type": "stream",
     "text": [
      "[I 2024-08-20 17:27:12,317] A new study created in RDB with name: OneClassSVM_2024-08-20 17:27:11.717702\n"
     ]
    },
    {
     "data": {
      "application/vnd.jupyter.widget-view+json": {
       "model_id": "94d532192c7847b3b755cf8cd0cbb327",
       "version_major": 2,
       "version_minor": 0
      },
      "text/plain": [
       "  0%|          | 0/100 [00:00<?, ?it/s]"
      ]
     },
     "metadata": {},
     "output_type": "display_data"
    },
    {
     "name": "stdout",
     "output_type": "stream",
     "text": [
      "[I 2024-08-20 17:27:42,487] Trial 4 finished with value: 0.4473364195269873 and parameters: {'nu': 2.0360539220701245e-08, 'kernel': 'sigmoid', 'gamma': 'scale'}. Best is trial 4 with value: 0.4473364195269873.\n",
      "[I 2024-08-20 17:27:48,923] Trial 5 finished with value: 0.4778683284002109 and parameters: {'nu': 3.451995120257347e-05, 'kernel': 'sigmoid', 'gamma': 'auto'}. Best is trial 5 with value: 0.4778683284002109.\n",
      "[I 2024-08-20 17:27:49,120] Trial 6 finished with value: 0.4782701561775437 and parameters: {'nu': 1.193424406470777e-06, 'kernel': 'sigmoid', 'gamma': 'auto'}. Best is trial 0 with value: 0.7048105016895708.\n",
      "[I 2024-08-20 17:27:49,483] Trial 0 finished with value: 0.7048105016895708 and parameters: {'nu': 0.00038085162697265064, 'kernel': 'poly', 'gamma': 'scale', 'degree': 5}. Best is trial 0 with value: 0.7048105016895708.\n",
      "[I 2024-08-20 17:28:11,341] Trial 8 finished with value: 0.5 and parameters: {'nu': 4.6770502474944275e-09, 'kernel': 'rbf', 'gamma': 'auto'}. Best is trial 0 with value: 0.7048105016895708.\n",
      "[I 2024-08-20 17:28:15,905] Trial 1 finished with value: 0.47116490191413807 and parameters: {'nu': 0.017355438894149842, 'kernel': 'poly', 'gamma': 'auto', 'degree': 1}. Best is trial 0 with value: 0.7048105016895708.\n",
      "[I 2024-08-20 17:28:20,615] Trial 9 finished with value: 0.4526397127771407 and parameters: {'nu': 1.2062689727088882e-08, 'kernel': 'poly', 'gamma': 'scale', 'degree': 14}. Best is trial 0 with value: 0.7048105016895708.\n",
      "[I 2024-08-20 17:28:28,241] Trial 11 finished with value: 0.5075362831047227 and parameters: {'nu': 3.1713614466268584e-05, 'kernel': 'poly', 'gamma': 'scale', 'degree': 2}. Best is trial 0 with value: 0.7048105016895708.\n",
      "[I 2024-08-20 17:28:28,248] Trial 10 finished with value: 0.464249513531047 and parameters: {'nu': 0.00016170626022328732, 'kernel': 'sigmoid', 'gamma': 'scale'}. Best is trial 0 with value: 0.7048105016895708.\n",
      "[I 2024-08-20 17:28:30,078] Trial 2 finished with value: 0.6427851645942094 and parameters: {'nu': 1.309845497983333e-05, 'kernel': 'rbf', 'gamma': 'scale'}. Best is trial 0 with value: 0.7048105016895708.\n",
      "[I 2024-08-20 17:28:43,309] Trial 12 finished with value: 0.4473364195269873 and parameters: {'nu': 1.1058455880150185e-09, 'kernel': 'poly', 'gamma': 'scale', 'degree': 1}. Best is trial 0 with value: 0.7048105016895708.\n",
      "[I 2024-08-20 17:28:45,699] Trial 7 finished with value: 0.7405357312532105 and parameters: {'nu': 0.013610187320058009, 'kernel': 'poly', 'gamma': 'scale', 'degree': 3}. Best is trial 7 with value: 0.7405357312532105.\n",
      "[I 2024-08-20 17:28:45,758] Trial 13 finished with value: 0.4374416433389972 and parameters: {'nu': 7.044909457893901e-07, 'kernel': 'sigmoid', 'gamma': 'scale'}. Best is trial 7 with value: 0.7405357312532105.\n",
      "[I 2024-08-20 17:28:47,251] Trial 14 finished with value: 0.4473364195269873 and parameters: {'nu': 3.2629754174212356e-09, 'kernel': 'sigmoid', 'gamma': 'auto'}. Best is trial 7 with value: 0.7405357312532105.\n",
      "[I 2024-08-20 17:29:09,501] Trial 3 finished with value: 0.6041134228794902 and parameters: {'nu': 0.0006395872568954858, 'kernel': 'rbf', 'gamma': 'auto'}. Best is trial 7 with value: 0.7405357312532105.\n",
      "[I 2024-08-20 17:30:17,133] Trial 17 finished with value: 0.5091223614834842 and parameters: {'nu': 0.13126468173740313, 'kernel': 'poly', 'gamma': 'scale', 'degree': 10}. Best is trial 7 with value: 0.7405357312532105.\n",
      "[I 2024-08-20 17:30:18,821] Trial 16 finished with value: 0.5849996083677285 and parameters: {'nu': 0.1424024910443904, 'kernel': 'poly', 'gamma': 'scale', 'degree': 8}. Best is trial 7 with value: 0.7405357312532105.\n",
      "[I 2024-08-20 17:30:20,844] Trial 21 finished with value: 0.601286819869458 and parameters: {'nu': 0.11663488686780235, 'kernel': 'poly', 'gamma': 'scale', 'degree': 6}. Best is trial 7 with value: 0.7405357312532105.\n",
      "[I 2024-08-20 17:30:28,508] Trial 19 finished with value: 0.7449752859849131 and parameters: {'nu': 0.12372526845062345, 'kernel': 'poly', 'gamma': 'scale', 'degree': 7}. Best is trial 19 with value: 0.7449752859849131.\n",
      "[I 2024-08-20 17:30:28,700] Trial 23 finished with value: 0.7387030115760087 and parameters: {'nu': 0.002748421094928725, 'kernel': 'poly', 'gamma': 'scale', 'degree': 5}. Best is trial 19 with value: 0.7449752859849131.\n",
      "[I 2024-08-20 17:30:42,236] Trial 20 finished with value: 0.7076777812649634 and parameters: {'nu': 0.15138608845606677, 'kernel': 'poly', 'gamma': 'scale', 'degree': 7}. Best is trial 19 with value: 0.7449752859849131.\n",
      "[I 2024-08-20 17:30:42,242] Trial 24 finished with value: 0.7291493912803751 and parameters: {'nu': 0.004340600413085967, 'kernel': 'poly', 'gamma': 'scale', 'degree': 3}. Best is trial 19 with value: 0.7449752859849131.\n",
      "[I 2024-08-20 17:30:42,246] Trial 15 finished with value: 0.574338786389671 and parameters: {'nu': 0.19337190234510598, 'kernel': 'poly', 'gamma': 'scale', 'degree': 10}. Best is trial 19 with value: 0.7449752859849131.\n",
      "[I 2024-08-20 17:30:46,459] Trial 25 finished with value: 0.7310591707818802 and parameters: {'nu': 0.0012633885944045432, 'kernel': 'poly', 'gamma': 'scale', 'degree': 3}. Best is trial 19 with value: 0.7449752859849131.\n",
      "[I 2024-08-20 17:30:51,517] Trial 27 finished with value: 0.5367404148755143 and parameters: {'nu': 0.009429982846850789, 'kernel': 'poly', 'gamma': 'scale', 'degree': 2}. Best is trial 19 with value: 0.7449752859849131.\n",
      "[I 2024-08-20 17:31:04,120] Trial 29 finished with value: 0.730624458998348 and parameters: {'nu': 0.006740387530304777, 'kernel': 'poly', 'gamma': 'scale', 'degree': 3}. Best is trial 19 with value: 0.7449752859849131.\n",
      "[I 2024-08-20 17:31:05,384] Trial 31 finished with value: 0.5371536499679482 and parameters: {'nu': 0.012677680213451963, 'kernel': 'poly', 'gamma': 'scale', 'degree': 2}. Best is trial 19 with value: 0.7449752859849131.\n",
      "[I 2024-08-20 17:31:07,068] Trial 18 finished with value: 0.5872092980976392 and parameters: {'nu': 0.27565753630484524, 'kernel': 'poly', 'gamma': 'scale', 'degree': 8}. Best is trial 19 with value: 0.7449752859849131.\n",
      "[I 2024-08-20 17:31:15,023] Trial 35 finished with value: 0.4473364195269873 and parameters: {'nu': 1.093429282409069e-10, 'kernel': 'poly', 'gamma': 'scale', 'degree': 23}. Best is trial 19 with value: 0.7449752859849131.\n",
      "[I 2024-08-20 17:31:22,440] Trial 28 finished with value: 0.41541466700459934 and parameters: {'nu': 0.011920279837732072, 'kernel': 'poly', 'gamma': 'scale', 'degree': 19}. Best is trial 19 with value: 0.7449752859849131.\n",
      "[I 2024-08-20 17:31:27,446] Trial 22 finished with value: 0.6019013047155478 and parameters: {'nu': 0.1112932233056588, 'kernel': 'poly', 'gamma': 'scale', 'degree': 6}. Best is trial 19 with value: 0.7449752859849131.\n",
      "[I 2024-08-20 17:31:55,349] Trial 36 finished with value: 0.6050662363803242 and parameters: {'nu': 0.0001563289928593151, 'kernel': 'rbf', 'gamma': 'scale'}. Best is trial 19 with value: 0.7449752859849131.\n",
      "[I 2024-08-20 17:32:05,087] Trial 39 finished with value: 0.7334477179413066 and parameters: {'nu': 0.0009640373510869003, 'kernel': 'poly', 'gamma': 'scale', 'degree': 3}. Best is trial 19 with value: 0.7449752859849131.\n",
      "[I 2024-08-20 17:32:09,645] Trial 37 finished with value: 0.6045552102310746 and parameters: {'nu': 0.0001512721854175396, 'kernel': 'rbf', 'gamma': 'scale'}. Best is trial 19 with value: 0.7449752859849131.\n",
      "[I 2024-08-20 17:32:18,007] Trial 41 finished with value: 0.5465557058956875 and parameters: {'nu': 0.002142243378553822, 'kernel': 'poly', 'gamma': 'auto', 'degree': 4}. Best is trial 19 with value: 0.7449752859849131.\n",
      "[I 2024-08-20 17:32:19,147] Trial 33 finished with value: 0.6089714567653866 and parameters: {'nu': 0.013427794015642062, 'kernel': 'rbf', 'gamma': 'scale'}. Best is trial 19 with value: 0.7449752859849131.\n",
      "[I 2024-08-20 17:32:28,507] Trial 43 finished with value: 0.5280199502064143 and parameters: {'nu': 0.0006671347641253807, 'kernel': 'poly', 'gamma': 'scale', 'degree': 4}. Best is trial 19 with value: 0.7449752859849131.\n",
      "[I 2024-08-20 17:32:31,496] Trial 32 finished with value: 0.6108647864638251 and parameters: {'nu': 0.015618875906472311, 'kernel': 'rbf', 'gamma': 'scale'}. Best is trial 19 with value: 0.7449752859849131.\n",
      "[I 2024-08-20 17:32:41,932] Trial 38 finished with value: 0.6053330504795673 and parameters: {'nu': 0.0011601535747415134, 'kernel': 'rbf', 'gamma': 'scale'}. Best is trial 19 with value: 0.7449752859849131.\n",
      "[I 2024-08-20 17:32:47,014] Trial 40 finished with value: 0.5801320298867515 and parameters: {'nu': 0.03167445373455271, 'kernel': 'poly', 'gamma': 'scale', 'degree': 4}. Best is trial 19 with value: 0.7449752859849131.\n",
      "[I 2024-08-20 17:32:56,567] Trial 47 finished with value: 0.4526397127771407 and parameters: {'nu': 2.9049432983734226e-06, 'kernel': 'poly', 'gamma': 'auto', 'degree': 32}. Best is trial 19 with value: 0.7449752859849131.\n",
      "[I 2024-08-20 17:33:27,886] Trial 44 finished with value: 0.5829817954359214 and parameters: {'nu': 0.035217620171114086, 'kernel': 'poly', 'gamma': 'auto', 'degree': 4}. Best is trial 19 with value: 0.7449752859849131.\n",
      "[I 2024-08-20 17:33:33,778] Trial 52 finished with value: 0.4696782286231537 and parameters: {'nu': 0.0026070385752964, 'kernel': 'sigmoid', 'gamma': 'auto'}. Best is trial 19 with value: 0.7449752859849131.\n",
      "[I 2024-08-20 17:33:38,334] Trial 53 finished with value: 0.4511689618374349 and parameters: {'nu': 2.400683440154112e-07, 'kernel': 'sigmoid', 'gamma': 'auto'}. Best is trial 19 with value: 0.7449752859849131.\n",
      "[I 2024-08-20 17:33:47,297] Trial 54 finished with value: 0.5343070920800322 and parameters: {'nu': 5.048686014703691e-05, 'kernel': 'poly', 'gamma': 'auto', 'degree': 5}. Best is trial 19 with value: 0.7449752859849131.\n",
      "[I 2024-08-20 17:33:51,401] Trial 34 finished with value: 0.6283919683531755 and parameters: {'nu': 0.030432842417825744, 'kernel': 'rbf', 'gamma': 'scale'}. Best is trial 19 with value: 0.7449752859849131.\n",
      "[I 2024-08-20 17:34:00,451] Trial 56 finished with value: 0.46081507360417556 and parameters: {'nu': 1.5048215126814121e-05, 'kernel': 'poly', 'gamma': 'auto', 'degree': 5}. Best is trial 19 with value: 0.7449752859849131.\n",
      "[I 2024-08-20 17:34:03,624] Trial 57 finished with value: 0.4401263024792443 and parameters: {'nu': 6.899238882937743e-06, 'kernel': 'poly', 'gamma': 'auto', 'degree': 5}. Best is trial 19 with value: 0.7449752859849131.\n",
      "[I 2024-08-20 17:34:15,804] Trial 58 finished with value: 0.7299282374560405 and parameters: {'nu': 0.0030907791834408117, 'kernel': 'poly', 'gamma': 'auto', 'degree': 3}. Best is trial 19 with value: 0.7449752859849131.\n",
      "[I 2024-08-20 17:34:20,512] Trial 59 finished with value: 0.6691720921109895 and parameters: {'nu': 0.00043004914316091406, 'kernel': 'poly', 'gamma': 'scale', 'degree': 3}. Best is trial 19 with value: 0.7449752859849131.\n",
      "[I 2024-08-20 17:34:32,117] Trial 60 finished with value: 0.7367338551264746 and parameters: {'nu': 0.0004090443486582316, 'kernel': 'poly', 'gamma': 'scale', 'degree': 3}. Best is trial 19 with value: 0.7449752859849131.\n",
      "[I 2024-08-20 17:34:34,048] Trial 61 finished with value: 0.5003251137948055 and parameters: {'nu': 0.0047958953656046886, 'kernel': 'poly', 'gamma': 'scale', 'degree': 1}. Best is trial 19 with value: 0.7449752859849131.\n",
      "[I 2024-08-20 17:34:40,424] Trial 46 finished with value: 0.5813470188804161 and parameters: {'nu': 0.03285192040308097, 'kernel': 'poly', 'gamma': 'auto', 'degree': 4}. Best is trial 19 with value: 0.7449752859849131.\n",
      "[I 2024-08-20 17:34:42,582] Trial 63 finished with value: 0.513367055244894 and parameters: {'nu': 6.084015931422769e-05, 'kernel': 'poly', 'gamma': 'scale', 'degree': 2}. Best is trial 19 with value: 0.7449752859849131.\n",
      "[I 2024-08-20 17:34:52,242] Trial 64 finished with value: 0.4779223149051914 and parameters: {'nu': 8.714073378305127e-05, 'kernel': 'sigmoid', 'gamma': 'scale'}. Best is trial 19 with value: 0.7449752859849131.\n",
      "[I 2024-08-20 17:34:56,588] Trial 65 finished with value: 0.46309775621490695 and parameters: {'nu': 0.0007403111995283754, 'kernel': 'sigmoid', 'gamma': 'scale'}. Best is trial 19 with value: 0.7449752859849131.\n",
      "[I 2024-08-20 17:35:05,333] Trial 67 finished with value: 0.42800162046392526 and parameters: {'nu': 0.0003631713633746269, 'kernel': 'poly', 'gamma': 'scale', 'degree': 11}. Best is trial 19 with value: 0.7449752859849131.\n",
      "[I 2024-08-20 17:35:11,177] Trial 45 finished with value: 0.5857712810966502 and parameters: {'nu': 0.04370890145592137, 'kernel': 'poly', 'gamma': 'auto', 'degree': 4}. Best is trial 19 with value: 0.7449752859849131.\n",
      "[I 2024-08-20 17:35:19,291] Trial 69 finished with value: 0.733439009438826 and parameters: {'nu': 0.0015039100692101877, 'kernel': 'poly', 'gamma': 'scale', 'degree': 3}. Best is trial 19 with value: 0.7449752859849131.\n",
      "[I 2024-08-20 17:35:42,593] Trial 62 finished with value: 0.5418424694543124 and parameters: {'nu': 0.049403992804219, 'kernel': 'poly', 'gamma': 'scale', 'degree': 2}. Best is trial 19 with value: 0.7449752859849131.\n",
      "[I 2024-08-20 17:35:47,300] Trial 51 finished with value: 0.7636212973836302 and parameters: {'nu': 0.047514550348386364, 'kernel': 'poly', 'gamma': 'auto', 'degree': 5}. Best is trial 51 with value: 0.7636212973836302.\n",
      "[I 2024-08-20 17:35:50,629] Trial 71 finished with value: 0.5656342563366096 and parameters: {'nu': 0.006007815597270957, 'kernel': 'poly', 'gamma': 'scale', 'degree': 6}. Best is trial 51 with value: 0.7636212973836302.\n",
      "[I 2024-08-20 17:35:55,005] Trial 55 finished with value: 0.7626451608246276 and parameters: {'nu': 0.049317261128864726, 'kernel': 'poly', 'gamma': 'auto', 'degree': 5}. Best is trial 51 with value: 0.7636212973836302.\n",
      "[I 2024-08-20 17:36:14,906] Trial 66 finished with value: 0.4920983397279109 and parameters: {'nu': 0.06071346423915233, 'kernel': 'poly', 'gamma': 'scale', 'degree': 12}. Best is trial 51 with value: 0.7636212973836302.\n",
      "[I 2024-08-20 17:36:26,676] Trial 68 finished with value: 0.752088176574758 and parameters: {'nu': 0.07766756695667812, 'kernel': 'poly', 'gamma': 'scale', 'degree': 3}. Best is trial 51 with value: 0.7636212973836302.\n",
      "[I 2024-08-20 17:36:36,181] Trial 70 finished with value: 0.6087521269553902 and parameters: {'nu': 0.085279679308208, 'kernel': 'poly', 'gamma': 'scale', 'degree': 6}. Best is trial 51 with value: 0.7636212973836302.\n",
      "[I 2024-08-20 17:36:40,111] Trial 73 finished with value: 0.5584677953018498 and parameters: {'nu': 0.05833327437100913, 'kernel': 'poly', 'gamma': 'scale', 'degree': 8}. Best is trial 51 with value: 0.7636212973836302.\n",
      "[I 2024-08-20 17:36:49,659] Trial 78 finished with value: 0.7599738861596309 and parameters: {'nu': 0.019811864000953385, 'kernel': 'poly', 'gamma': 'auto', 'degree': 5}. Best is trial 51 with value: 0.7636212973836302.\n",
      "[I 2024-08-20 17:37:01,311] Trial 72 finished with value: 0.7491352763561248 and parameters: {'nu': 0.08062181809393587, 'kernel': 'poly', 'gamma': 'scale', 'degree': 7}. Best is trial 51 with value: 0.7636212973836302.\n",
      "[I 2024-08-20 17:37:05,461] Trial 74 finished with value: 0.5648906245265068 and parameters: {'nu': 0.08590044363870625, 'kernel': 'poly', 'gamma': 'auto', 'degree': 8}. Best is trial 51 with value: 0.7636212973836302.\n",
      "[I 2024-08-20 17:37:29,973] Trial 76 finished with value: 0.5616758611145553 and parameters: {'nu': 0.07319329258266666, 'kernel': 'poly', 'gamma': 'auto', 'degree': 8}. Best is trial 51 with value: 0.7636212973836302.\n",
      "[I 2024-08-20 17:37:31,608] Trial 75 finished with value: 0.5887797187210521 and parameters: {'nu': 0.2763324984242118, 'kernel': 'poly', 'gamma': 'auto', 'degree': 8}. Best is trial 51 with value: 0.7636212973836302.\n",
      "[I 2024-08-20 17:37:41,404] Trial 83 finished with value: 0.692679001393724 and parameters: {'nu': 0.019083855993414247, 'kernel': 'poly', 'gamma': 'auto', 'degree': 7}. Best is trial 51 with value: 0.7636212973836302.\n",
      "[I 2024-08-20 17:37:55,132] Trial 77 finished with value: 0.5863263701843293 and parameters: {'nu': 0.19786819957538404, 'kernel': 'poly', 'gamma': 'auto', 'degree': 8}. Best is trial 51 with value: 0.7636212973836302.\n",
      "[I 2024-08-20 17:38:06,018] Trial 79 finished with value: 0.6340869286894396 and parameters: {'nu': 0.2907208423901375, 'kernel': 'poly', 'gamma': 'auto', 'degree': 5}. Best is trial 51 with value: 0.7636212973836302.\n",
      "[I 2024-08-20 17:38:18,923] Trial 80 finished with value: 0.6440895942209498 and parameters: {'nu': 0.20332207881774383, 'kernel': 'poly', 'gamma': 'auto', 'degree': 7}. Best is trial 51 with value: 0.7636212973836302.\n",
      "[I 2024-08-20 17:38:20,696] Trial 81 finished with value: 0.6704285162812972 and parameters: {'nu': 0.16272591200073944, 'kernel': 'poly', 'gamma': 'auto', 'degree': 7}. Best is trial 51 with value: 0.7636212973836302.\n",
      "[I 2024-08-20 17:38:29,359] Trial 85 finished with value: 0.6041373625955752 and parameters: {'nu': 0.008525063394749717, 'kernel': 'rbf', 'gamma': 'auto'}. Best is trial 51 with value: 0.7636212973836302.\n",
      "[I 2024-08-20 17:38:35,100] Trial 88 finished with value: 0.7589130138566943 and parameters: {'nu': 0.018031166213304767, 'kernel': 'poly', 'gamma': 'scale', 'degree': 5}. Best is trial 51 with value: 0.7636212973836302.\n",
      "[I 2024-08-20 17:38:43,570] Trial 89 finished with value: 0.7630949084715184 and parameters: {'nu': 0.01888972001665151, 'kernel': 'poly', 'gamma': 'scale', 'degree': 5}. Best is trial 51 with value: 0.7636212973836302.\n",
      "[I 2024-08-20 17:38:52,115] Trial 90 finished with value: 0.591644116183975 and parameters: {'nu': 0.020178174112913356, 'kernel': 'poly', 'gamma': 'scale', 'degree': 6}. Best is trial 51 with value: 0.7636212973836302.\n"
     ]
    },
    {
     "ename": "KeyboardInterrupt",
     "evalue": "",
     "output_type": "error",
     "traceback": [
      "\u001b[0;31m---------------------------------------------------------------------------\u001b[0m",
      "\u001b[0;31mKeyboardInterrupt\u001b[0m                         Traceback (most recent call last)",
      "Cell \u001b[0;32mIn[23], line 28\u001b[0m\n\u001b[1;32m     20\u001b[0m     \u001b[38;5;28;01mreturn\u001b[39;00m accuracy\n\u001b[1;32m     23\u001b[0m study \u001b[38;5;241m=\u001b[39m optuna\u001b[38;5;241m.\u001b[39mcreate_study(\n\u001b[1;32m     24\u001b[0m     storage\u001b[38;5;241m=\u001b[39mOPTUNA_STORAGE,\n\u001b[1;32m     25\u001b[0m     direction\u001b[38;5;241m=\u001b[39m\u001b[38;5;124m\"\u001b[39m\u001b[38;5;124mmaximize\u001b[39m\u001b[38;5;124m\"\u001b[39m,\n\u001b[1;32m     26\u001b[0m     study_name\u001b[38;5;241m=\u001b[39m\u001b[38;5;124mf\u001b[39m\u001b[38;5;124m\"\u001b[39m\u001b[38;5;124mOneClassSVM_\u001b[39m\u001b[38;5;132;01m{\u001b[39;00mdatetime\u001b[38;5;241m.\u001b[39mdatetime\u001b[38;5;241m.\u001b[39mnow()\u001b[38;5;132;01m}\u001b[39;00m\u001b[38;5;124m\"\u001b[39m\n\u001b[1;32m     27\u001b[0m )\n\u001b[0;32m---> 28\u001b[0m \u001b[43mstudy\u001b[49m\u001b[38;5;241;43m.\u001b[39;49m\u001b[43moptimize\u001b[49m\u001b[43m(\u001b[49m\u001b[43mobjective\u001b[49m\u001b[43m,\u001b[49m\u001b[43m \u001b[49m\u001b[43mn_trials\u001b[49m\u001b[38;5;241;43m=\u001b[39;49m\u001b[38;5;241;43m100\u001b[39;49m\u001b[43m,\u001b[49m\u001b[43m \u001b[49m\u001b[43mn_jobs\u001b[49m\u001b[38;5;241;43m=\u001b[39;49m\u001b[38;5;241;43m-\u001b[39;49m\u001b[38;5;241;43m1\u001b[39;49m\u001b[43m,\u001b[49m\u001b[43m \u001b[49m\u001b[43mshow_progress_bar\u001b[49m\u001b[38;5;241;43m=\u001b[39;49m\u001b[38;5;28;43;01mTrue\u001b[39;49;00m\u001b[43m,\u001b[49m\u001b[43m \u001b[49m\u001b[43mtimeout\u001b[49m\u001b[38;5;241;43m=\u001b[39;49m\u001b[38;5;241;43m3600\u001b[39;49m\u001b[43m)\u001b[49m\n\u001b[1;32m     29\u001b[0m \u001b[38;5;28mprint\u001b[39m(\u001b[38;5;124mf\u001b[39m\u001b[38;5;124m\"\u001b[39m\u001b[38;5;124mBest value: \u001b[39m\u001b[38;5;132;01m{\u001b[39;00mstudy\u001b[38;5;241m.\u001b[39mbest_value\u001b[38;5;132;01m}\u001b[39;00m\u001b[38;5;124m (params: \u001b[39m\u001b[38;5;132;01m{\u001b[39;00mstudy\u001b[38;5;241m.\u001b[39mbest_params\u001b[38;5;132;01m}\u001b[39;00m\u001b[38;5;124m)\u001b[39m\u001b[38;5;124m\"\u001b[39m)\n\u001b[1;32m     30\u001b[0m \u001b[38;5;28mprint\u001b[39m(study\u001b[38;5;241m.\u001b[39mbest_trial)\n",
      "File \u001b[0;32m~/.local/lib/python3.10/site-packages/optuna/study/study.py:451\u001b[0m, in \u001b[0;36mStudy.optimize\u001b[0;34m(self, func, n_trials, timeout, n_jobs, catch, callbacks, gc_after_trial, show_progress_bar)\u001b[0m\n\u001b[1;32m    348\u001b[0m \u001b[38;5;28;01mdef\u001b[39;00m \u001b[38;5;21moptimize\u001b[39m(\n\u001b[1;32m    349\u001b[0m     \u001b[38;5;28mself\u001b[39m,\n\u001b[1;32m    350\u001b[0m     func: ObjectiveFuncType,\n\u001b[0;32m   (...)\u001b[0m\n\u001b[1;32m    357\u001b[0m     show_progress_bar: \u001b[38;5;28mbool\u001b[39m \u001b[38;5;241m=\u001b[39m \u001b[38;5;28;01mFalse\u001b[39;00m,\n\u001b[1;32m    358\u001b[0m ) \u001b[38;5;241m-\u001b[39m\u001b[38;5;241m>\u001b[39m \u001b[38;5;28;01mNone\u001b[39;00m:\n\u001b[1;32m    359\u001b[0m \u001b[38;5;250m    \u001b[39m\u001b[38;5;124;03m\"\"\"Optimize an objective function.\u001b[39;00m\n\u001b[1;32m    360\u001b[0m \n\u001b[1;32m    361\u001b[0m \u001b[38;5;124;03m    Optimization is done by choosing a suitable set of hyperparameter values from a given\u001b[39;00m\n\u001b[0;32m   (...)\u001b[0m\n\u001b[1;32m    449\u001b[0m \u001b[38;5;124;03m            If nested invocation of this method occurs.\u001b[39;00m\n\u001b[1;32m    450\u001b[0m \u001b[38;5;124;03m    \"\"\"\u001b[39;00m\n\u001b[0;32m--> 451\u001b[0m     \u001b[43m_optimize\u001b[49m\u001b[43m(\u001b[49m\n\u001b[1;32m    452\u001b[0m \u001b[43m        \u001b[49m\u001b[43mstudy\u001b[49m\u001b[38;5;241;43m=\u001b[39;49m\u001b[38;5;28;43mself\u001b[39;49m\u001b[43m,\u001b[49m\n\u001b[1;32m    453\u001b[0m \u001b[43m        \u001b[49m\u001b[43mfunc\u001b[49m\u001b[38;5;241;43m=\u001b[39;49m\u001b[43mfunc\u001b[49m\u001b[43m,\u001b[49m\n\u001b[1;32m    454\u001b[0m \u001b[43m        \u001b[49m\u001b[43mn_trials\u001b[49m\u001b[38;5;241;43m=\u001b[39;49m\u001b[43mn_trials\u001b[49m\u001b[43m,\u001b[49m\n\u001b[1;32m    455\u001b[0m \u001b[43m        \u001b[49m\u001b[43mtimeout\u001b[49m\u001b[38;5;241;43m=\u001b[39;49m\u001b[43mtimeout\u001b[49m\u001b[43m,\u001b[49m\n\u001b[1;32m    456\u001b[0m \u001b[43m        \u001b[49m\u001b[43mn_jobs\u001b[49m\u001b[38;5;241;43m=\u001b[39;49m\u001b[43mn_jobs\u001b[49m\u001b[43m,\u001b[49m\n\u001b[1;32m    457\u001b[0m \u001b[43m        \u001b[49m\u001b[43mcatch\u001b[49m\u001b[38;5;241;43m=\u001b[39;49m\u001b[38;5;28;43mtuple\u001b[39;49m\u001b[43m(\u001b[49m\u001b[43mcatch\u001b[49m\u001b[43m)\u001b[49m\u001b[43m \u001b[49m\u001b[38;5;28;43;01mif\u001b[39;49;00m\u001b[43m \u001b[49m\u001b[38;5;28;43misinstance\u001b[39;49m\u001b[43m(\u001b[49m\u001b[43mcatch\u001b[49m\u001b[43m,\u001b[49m\u001b[43m \u001b[49m\u001b[43mIterable\u001b[49m\u001b[43m)\u001b[49m\u001b[43m \u001b[49m\u001b[38;5;28;43;01melse\u001b[39;49;00m\u001b[43m \u001b[49m\u001b[43m(\u001b[49m\u001b[43mcatch\u001b[49m\u001b[43m,\u001b[49m\u001b[43m)\u001b[49m\u001b[43m,\u001b[49m\n\u001b[1;32m    458\u001b[0m \u001b[43m        \u001b[49m\u001b[43mcallbacks\u001b[49m\u001b[38;5;241;43m=\u001b[39;49m\u001b[43mcallbacks\u001b[49m\u001b[43m,\u001b[49m\n\u001b[1;32m    459\u001b[0m \u001b[43m        \u001b[49m\u001b[43mgc_after_trial\u001b[49m\u001b[38;5;241;43m=\u001b[39;49m\u001b[43mgc_after_trial\u001b[49m\u001b[43m,\u001b[49m\n\u001b[1;32m    460\u001b[0m \u001b[43m        \u001b[49m\u001b[43mshow_progress_bar\u001b[49m\u001b[38;5;241;43m=\u001b[39;49m\u001b[43mshow_progress_bar\u001b[49m\u001b[43m,\u001b[49m\n\u001b[1;32m    461\u001b[0m \u001b[43m    \u001b[49m\u001b[43m)\u001b[49m\n",
      "File \u001b[0;32m~/.local/lib/python3.10/site-packages/optuna/study/_optimize.py:81\u001b[0m, in \u001b[0;36m_optimize\u001b[0;34m(study, func, n_trials, timeout, n_jobs, catch, callbacks, gc_after_trial, show_progress_bar)\u001b[0m\n\u001b[1;32m     78\u001b[0m time_start \u001b[38;5;241m=\u001b[39m datetime\u001b[38;5;241m.\u001b[39mdatetime\u001b[38;5;241m.\u001b[39mnow()\n\u001b[1;32m     79\u001b[0m futures: \u001b[38;5;28mset\u001b[39m[Future] \u001b[38;5;241m=\u001b[39m \u001b[38;5;28mset\u001b[39m()\n\u001b[0;32m---> 81\u001b[0m \u001b[38;5;28;01mwith\u001b[39;00m ThreadPoolExecutor(max_workers\u001b[38;5;241m=\u001b[39mn_jobs) \u001b[38;5;28;01mas\u001b[39;00m executor:\n\u001b[1;32m     82\u001b[0m     \u001b[38;5;28;01mfor\u001b[39;00m n_submitted_trials \u001b[38;5;129;01min\u001b[39;00m itertools\u001b[38;5;241m.\u001b[39mcount():\n\u001b[1;32m     83\u001b[0m         \u001b[38;5;28;01mif\u001b[39;00m study\u001b[38;5;241m.\u001b[39m_stop_flag:\n",
      "File \u001b[0;32m~/.conda/envs/attack-detection/lib/python3.10/concurrent/futures/_base.py:649\u001b[0m, in \u001b[0;36mExecutor.__exit__\u001b[0;34m(self, exc_type, exc_val, exc_tb)\u001b[0m\n\u001b[1;32m    648\u001b[0m \u001b[38;5;28;01mdef\u001b[39;00m \u001b[38;5;21m__exit__\u001b[39m(\u001b[38;5;28mself\u001b[39m, exc_type, exc_val, exc_tb):\n\u001b[0;32m--> 649\u001b[0m     \u001b[38;5;28;43mself\u001b[39;49m\u001b[38;5;241;43m.\u001b[39;49m\u001b[43mshutdown\u001b[49m\u001b[43m(\u001b[49m\u001b[43mwait\u001b[49m\u001b[38;5;241;43m=\u001b[39;49m\u001b[38;5;28;43;01mTrue\u001b[39;49;00m\u001b[43m)\u001b[49m\n\u001b[1;32m    650\u001b[0m     \u001b[38;5;28;01mreturn\u001b[39;00m \u001b[38;5;28;01mFalse\u001b[39;00m\n",
      "File \u001b[0;32m~/.conda/envs/attack-detection/lib/python3.10/concurrent/futures/thread.py:235\u001b[0m, in \u001b[0;36mThreadPoolExecutor.shutdown\u001b[0;34m(self, wait, cancel_futures)\u001b[0m\n\u001b[1;32m    233\u001b[0m \u001b[38;5;28;01mif\u001b[39;00m wait:\n\u001b[1;32m    234\u001b[0m     \u001b[38;5;28;01mfor\u001b[39;00m t \u001b[38;5;129;01min\u001b[39;00m \u001b[38;5;28mself\u001b[39m\u001b[38;5;241m.\u001b[39m_threads:\n\u001b[0;32m--> 235\u001b[0m         \u001b[43mt\u001b[49m\u001b[38;5;241;43m.\u001b[39;49m\u001b[43mjoin\u001b[49m\u001b[43m(\u001b[49m\u001b[43m)\u001b[49m\n",
      "File \u001b[0;32m~/.conda/envs/attack-detection/lib/python3.10/threading.py:1096\u001b[0m, in \u001b[0;36mThread.join\u001b[0;34m(self, timeout)\u001b[0m\n\u001b[1;32m   1093\u001b[0m     \u001b[38;5;28;01mraise\u001b[39;00m \u001b[38;5;167;01mRuntimeError\u001b[39;00m(\u001b[38;5;124m\"\u001b[39m\u001b[38;5;124mcannot join current thread\u001b[39m\u001b[38;5;124m\"\u001b[39m)\n\u001b[1;32m   1095\u001b[0m \u001b[38;5;28;01mif\u001b[39;00m timeout \u001b[38;5;129;01mis\u001b[39;00m \u001b[38;5;28;01mNone\u001b[39;00m:\n\u001b[0;32m-> 1096\u001b[0m     \u001b[38;5;28;43mself\u001b[39;49m\u001b[38;5;241;43m.\u001b[39;49m\u001b[43m_wait_for_tstate_lock\u001b[49m\u001b[43m(\u001b[49m\u001b[43m)\u001b[49m\n\u001b[1;32m   1097\u001b[0m \u001b[38;5;28;01melse\u001b[39;00m:\n\u001b[1;32m   1098\u001b[0m     \u001b[38;5;66;03m# the behavior of a negative timeout isn't documented, but\u001b[39;00m\n\u001b[1;32m   1099\u001b[0m     \u001b[38;5;66;03m# historically .join(timeout=x) for x<0 has acted as if timeout=0\u001b[39;00m\n\u001b[1;32m   1100\u001b[0m     \u001b[38;5;28mself\u001b[39m\u001b[38;5;241m.\u001b[39m_wait_for_tstate_lock(timeout\u001b[38;5;241m=\u001b[39m\u001b[38;5;28mmax\u001b[39m(timeout, \u001b[38;5;241m0\u001b[39m))\n",
      "File \u001b[0;32m~/.conda/envs/attack-detection/lib/python3.10/threading.py:1116\u001b[0m, in \u001b[0;36mThread._wait_for_tstate_lock\u001b[0;34m(self, block, timeout)\u001b[0m\n\u001b[1;32m   1113\u001b[0m     \u001b[38;5;28;01mreturn\u001b[39;00m\n\u001b[1;32m   1115\u001b[0m \u001b[38;5;28;01mtry\u001b[39;00m:\n\u001b[0;32m-> 1116\u001b[0m     \u001b[38;5;28;01mif\u001b[39;00m \u001b[43mlock\u001b[49m\u001b[38;5;241;43m.\u001b[39;49m\u001b[43macquire\u001b[49m\u001b[43m(\u001b[49m\u001b[43mblock\u001b[49m\u001b[43m,\u001b[49m\u001b[43m \u001b[49m\u001b[43mtimeout\u001b[49m\u001b[43m)\u001b[49m:\n\u001b[1;32m   1117\u001b[0m         lock\u001b[38;5;241m.\u001b[39mrelease()\n\u001b[1;32m   1118\u001b[0m         \u001b[38;5;28mself\u001b[39m\u001b[38;5;241m.\u001b[39m_stop()\n",
      "\u001b[0;31mKeyboardInterrupt\u001b[0m: "
     ]
    }
   ],
   "source": [
    "import optuna\n",
    "\n",
    "import sklearn.datasets\n",
    "import sklearn.ensemble\n",
    "import sklearn.model_selection\n",
    "import sklearn.svm\n",
    "\n",
    "\n",
    "def objective(trial):\n",
    "    nu = trial.suggest_float(\"nu\", 1e-10, 0.3, log=True)\n",
    "    kernel = trial.suggest_categorical(\"kernel\", ['poly', 'rbf', 'sigmoid'])\n",
    "    # kernel = trial.suggest_categorical(\"kernel\", ['linear', 'poly', 'rbf', 'sigmoid'])\n",
    "    gamma = trial.suggest_categorical(\"gamma\", ['scale', 'auto'])\n",
    "    degree = 3\n",
    "    if kernel == \"poly\":\n",
    "        degree = trial.suggest_int(\"degree\", 1, 32, log=True)\n",
    "    classifier_obj = OneClassSVM(kernel=kernel, gamma=gamma, nu=nu, degree=degree)\n",
    "\n",
    "    accuracy = test(classifier_obj, df, attacks, benign, test_ood_OneClassSVM)\n",
    "    return accuracy\n",
    "\n",
    "\n",
    "study = optuna.create_study(\n",
    "    storage=OPTUNA_STORAGE,\n",
    "    direction=\"maximize\",\n",
    "    study_name=f\"OneClassSVM_{datetime.datetime.now()}\"\n",
    ")\n",
    "study.optimize(objective, n_trials=100, n_jobs=-1, show_progress_bar=True, timeout=3600)\n",
    "print(f\"Best value: {study.best_value} (params: {study.best_params})\")\n",
    "print(study.best_trial)"
   ]
  },
  {
   "cell_type": "code",
   "execution_count": null,
   "id": "58e94fcb-e976-4771-b963-e9317bf1a564",
   "metadata": {
    "scrolled": true
   },
   "outputs": [
    {
     "name": "stderr",
     "output_type": "stream",
     "text": [
      "[I 2024-06-03 12:36:32,533] A new study created in RDB with name: LocalOutlierFactor_2024-06-03 12:36:32.471143\n"
     ]
    },
    {
     "data": {
      "application/vnd.jupyter.widget-view+json": {
       "model_id": "20b48a827ff3454eb273c98012ad991a",
       "version_major": 2,
       "version_minor": 0
      },
      "text/plain": [
       "  0%|          | 0/100 [00:00<?, ?it/s]"
      ]
     },
     "metadata": {},
     "output_type": "display_data"
    },
    {
     "name": "stdout",
     "output_type": "stream",
     "text": [
      "[I 2024-06-03 12:42:16,452] Trial 8 finished with value: 0.8560441756587658 and parameters: {'n_neighbors': 22, 'algorithm': 'ball_tree', 'leaf_size': 7, 'p': 1}. Best is trial 8 with value: 0.8560441756587658.\n",
      "[I 2024-06-03 12:42:19,862] Trial 9 finished with value: 0.8316963066256005 and parameters: {'n_neighbors': 11, 'algorithm': 'ball_tree', 'leaf_size': 22, 'p': 2}. Best is trial 8 with value: 0.8560441756587658.\n",
      "[I 2024-06-03 12:42:24,655] Trial 10 finished with value: 0.8525430301793241 and parameters: {'n_neighbors': 12, 'algorithm': 'ball_tree', 'leaf_size': 47, 'p': 1}. Best is trial 8 with value: 0.8560441756587658.\n",
      "[I 2024-06-03 12:42:25,772] Trial 4 finished with value: 0.8309157741243052 and parameters: {'n_neighbors': 37, 'algorithm': 'kd_tree', 'leaf_size': 24, 'p': 2}. Best is trial 8 with value: 0.8560441756587658.\n",
      "[I 2024-06-03 12:42:26,504] Trial 3 finished with value: 0.8156394737126851 and parameters: {'n_neighbors': 30, 'algorithm': 'kd_tree', 'leaf_size': 24, 'p': 2}. Best is trial 8 with value: 0.8560441756587658.\n",
      "[I 2024-06-03 12:42:27,084] Trial 1 finished with value: 0.841222431226284 and parameters: {'n_neighbors': 15, 'algorithm': 'kd_tree', 'leaf_size': 18, 'p': 2}. Best is trial 8 with value: 0.8560441756587658.\n",
      "[I 2024-06-03 12:42:27,759] Trial 6 finished with value: 0.8486965518705364 and parameters: {'n_neighbors': 8, 'algorithm': 'kd_tree', 'leaf_size': 40, 'p': 2}. Best is trial 8 with value: 0.8560441756587658.\n",
      "[I 2024-06-03 12:42:28,951] Trial 0 finished with value: 0.8542059140576578 and parameters: {'n_neighbors': 6, 'algorithm': 'kd_tree', 'leaf_size': 9, 'p': 2}. Best is trial 8 with value: 0.8560441756587658.\n",
      "[I 2024-06-03 12:45:21,454] Trial 18 finished with value: 0.8598204335016433 and parameters: {'n_neighbors': 10, 'algorithm': 'kd_tree', 'leaf_size': 21, 'p': 1}. Best is trial 18 with value: 0.8598204335016433.\n",
      "[I 2024-06-03 12:45:33,821] Trial 16 finished with value: 0.8353811024768284 and parameters: {'n_neighbors': 19, 'algorithm': 'ball_tree', 'leaf_size': 9, 'p': 2}. Best is trial 18 with value: 0.8598204335016433.\n",
      "[I 2024-06-03 12:45:43,870] Trial 19 finished with value: 0.857860828710282 and parameters: {'n_neighbors': 28, 'algorithm': 'ball_tree', 'leaf_size': 17, 'p': 1}. Best is trial 18 with value: 0.8598204335016433.\n",
      "[I 2024-06-03 12:47:40,948] Trial 20 finished with value: 0.8791662032468325 and parameters: {'n_neighbors': 41, 'algorithm': 'kd_tree', 'leaf_size': 24, 'p': 1}. Best is trial 20 with value: 0.8791662032468325.\n",
      "[I 2024-06-03 12:51:05,827] Trial 7 finished with value: 0.8570446321434062 and parameters: {'n_neighbors': 16, 'algorithm': 'brute', 'leaf_size': 6, 'p': 1}. Best is trial 20 with value: 0.8791662032468325.\n",
      "[I 2024-06-03 12:52:16,450] Trial 13 finished with value: 0.8540709178039909 and parameters: {'n_neighbors': 20, 'algorithm': 'brute', 'leaf_size': 8, 'p': 1}. Best is trial 20 with value: 0.8791662032468325.\n",
      "[I 2024-06-03 12:53:00,411] Trial 2 finished with value: 0.8484490724616073 and parameters: {'n_neighbors': 9, 'algorithm': 'auto', 'leaf_size': 26, 'p': 2}. Best is trial 20 with value: 0.8791662032468325.\n",
      "[I 2024-06-03 12:53:03,058] Trial 5 finished with value: 0.8349265391971675 and parameters: {'n_neighbors': 13, 'algorithm': 'auto', 'leaf_size': 13, 'p': 2}. Best is trial 20 with value: 0.8791662032468325.\n",
      "[I 2024-06-03 12:53:11,429] Trial 11 finished with value: 0.8270589266707831 and parameters: {'n_neighbors': 47, 'algorithm': 'auto', 'leaf_size': 13, 'p': 2}. Best is trial 20 with value: 0.8791662032468325.\n",
      "[I 2024-06-03 12:54:16,195] Trial 21 finished with value: 0.8723444021856598 and parameters: {'n_neighbors': 5, 'algorithm': 'auto', 'leaf_size': 5, 'p': 1}. Best is trial 20 with value: 0.8791662032468325.\n",
      "[I 2024-06-03 12:54:38,210] Trial 22 finished with value: 0.8770915297671331 and parameters: {'n_neighbors': 49, 'algorithm': 'brute', 'leaf_size': 14, 'p': 1}. Best is trial 20 with value: 0.8791662032468325.\n",
      "[I 2024-06-03 12:55:22,518] Trial 12 finished with value: 0.8224173979369611 and parameters: {'n_neighbors': 26, 'algorithm': 'auto', 'leaf_size': 8, 'p': 2}. Best is trial 20 with value: 0.8791662032468325.\n",
      "[I 2024-06-03 12:55:24,642] Trial 27 finished with value: 0.8723444021856598 and parameters: {'n_neighbors': 5, 'algorithm': 'kd_tree', 'leaf_size': 36, 'p': 1}. Best is trial 20 with value: 0.8791662032468325.\n",
      "[I 2024-06-03 12:55:26,931] Trial 17 finished with value: 0.8353811024768284 and parameters: {'n_neighbors': 19, 'algorithm': 'auto', 'leaf_size': 7, 'p': 2}. Best is trial 20 with value: 0.8791662032468325.\n",
      "[I 2024-06-03 12:55:29,208] Trial 14 finished with value: 0.8306043401608354 and parameters: {'n_neighbors': 41, 'algorithm': 'auto', 'leaf_size': 20, 'p': 2}. Best is trial 20 with value: 0.8791662032468325.\n",
      "[I 2024-06-03 12:55:29,408] Trial 15 finished with value: 0.8141791662918543 and parameters: {'n_neighbors': 28, 'algorithm': 'brute', 'leaf_size': 14, 'p': 2}. Best is trial 20 with value: 0.8791662032468325.\n",
      "[I 2024-06-03 12:55:34,961] Trial 28 finished with value: 0.8723444021856598 and parameters: {'n_neighbors': 5, 'algorithm': 'kd_tree', 'leaf_size': 34, 'p': 1}. Best is trial 20 with value: 0.8791662032468325.\n",
      "[I 2024-06-03 12:56:34,258] Trial 23 finished with value: 0.8781058288044185 and parameters: {'n_neighbors': 47, 'algorithm': 'brute', 'leaf_size': 32, 'p': 1}. Best is trial 20 with value: 0.8791662032468325.\n",
      "[I 2024-06-03 13:00:13,166] Trial 24 finished with value: 0.8778791729021567 and parameters: {'n_neighbors': 48, 'algorithm': 'auto', 'leaf_size': 32, 'p': 1}. Best is trial 20 with value: 0.8791662032468325.\n",
      "[I 2024-06-03 13:01:26,178] Trial 25 finished with value: 0.8765546913934986 and parameters: {'n_neighbors': 50, 'algorithm': 'auto', 'leaf_size': 34, 'p': 1}. Best is trial 20 with value: 0.8791662032468325.\n",
      "[I 2024-06-03 13:02:12,845] Trial 26 finished with value: 0.8770915297671331 and parameters: {'n_neighbors': 49, 'algorithm': 'auto', 'leaf_size': 34, 'p': 1}. Best is trial 20 with value: 0.8791662032468325.\n",
      "[I 2024-06-03 13:02:48,486] Trial 29 finished with value: 0.8723444021856598 and parameters: {'n_neighbors': 5, 'algorithm': 'auto', 'leaf_size': 5, 'p': 1}. Best is trial 20 with value: 0.8791662032468325.\n",
      "[I 2024-06-03 13:03:07,167] Trial 30 finished with value: 0.8781058288044185 and parameters: {'n_neighbors': 47, 'algorithm': 'brute', 'leaf_size': 34, 'p': 1}. Best is trial 20 with value: 0.8791662032468325.\n",
      "[I 2024-06-03 13:03:30,670] Trial 31 finished with value: 0.878165353069024 and parameters: {'n_neighbors': 45, 'algorithm': 'brute', 'leaf_size': 32, 'p': 1}. Best is trial 20 with value: 0.8791662032468325.\n",
      "[I 2024-06-03 13:03:34,382] Trial 32 finished with value: 0.8778791729021567 and parameters: {'n_neighbors': 48, 'algorithm': 'brute', 'leaf_size': 5, 'p': 1}. Best is trial 20 with value: 0.8791662032468325.\n",
      "[I 2024-06-03 13:03:36,058] Trial 33 finished with value: 0.8770915297671331 and parameters: {'n_neighbors': 49, 'algorithm': 'brute', 'leaf_size': 5, 'p': 1}. Best is trial 20 with value: 0.8791662032468325.\n",
      "[I 2024-06-03 13:03:39,953] Trial 36 finished with value: 0.8767142734380685 and parameters: {'n_neighbors': 37, 'algorithm': 'brute', 'leaf_size': 11, 'p': 1}. Best is trial 20 with value: 0.8791662032468325.\n",
      "[I 2024-06-03 13:03:40,283] Trial 35 finished with value: 0.8770915297671331 and parameters: {'n_neighbors': 49, 'algorithm': 'brute', 'leaf_size': 29, 'p': 1}. Best is trial 20 with value: 0.8791662032468325.\n",
      "[I 2024-06-03 13:03:41,036] Trial 34 finished with value: 0.8770915297671331 and parameters: {'n_neighbors': 49, 'algorithm': 'brute', 'leaf_size': 5, 'p': 1}. Best is trial 20 with value: 0.8791662032468325.\n",
      "[I 2024-06-03 13:04:42,734] Trial 37 finished with value: 0.8770915297671331 and parameters: {'n_neighbors': 49, 'algorithm': 'brute', 'leaf_size': 30, 'p': 1}. Best is trial 20 with value: 0.8791662032468325.\n",
      "[I 2024-06-03 13:08:20,470] Trial 38 finished with value: 0.875125564864068 and parameters: {'n_neighbors': 36, 'algorithm': 'brute', 'leaf_size': 28, 'p': 1}. Best is trial 20 with value: 0.8791662032468325.\n",
      "[I 2024-06-03 13:09:59,996] Trial 39 finished with value: 0.875125564864068 and parameters: {'n_neighbors': 36, 'algorithm': 'brute', 'leaf_size': 31, 'p': 1}. Best is trial 20 with value: 0.8791662032468325.\n",
      "[I 2024-06-03 13:10:39,742] Trial 50 finished with value: 0.8680447824227372 and parameters: {'n_neighbors': 32, 'algorithm': 'kd_tree', 'leaf_size': 40, 'p': 1}. Best is trial 20 with value: 0.8791662032468325.\n",
      "[I 2024-06-03 13:11:20,378] Trial 40 finished with value: 0.8741909702990734 and parameters: {'n_neighbors': 35, 'algorithm': 'brute', 'leaf_size': 30, 'p': 1}. Best is trial 20 with value: 0.8791662032468325.\n",
      "[I 2024-06-03 13:12:32,885] Trial 41 finished with value: 0.8734395342167227 and parameters: {'n_neighbors': 34, 'algorithm': 'brute', 'leaf_size': 27, 'p': 1}. Best is trial 20 with value: 0.8791662032468325.\n",
      "[I 2024-06-03 13:12:57,479] Trial 51 finished with value: 0.8791662032468325 and parameters: {'n_neighbors': 41, 'algorithm': 'kd_tree', 'leaf_size': 43, 'p': 1}. Best is trial 51 with value: 0.8791662032468325.\n",
      "[I 2024-06-03 13:13:23,657] Trial 42 finished with value: 0.8741909702990734 and parameters: {'n_neighbors': 35, 'algorithm': 'brute', 'leaf_size': 27, 'p': 1}. Best is trial 51 with value: 0.8791662032468325.\n",
      "[I 2024-06-03 13:13:56,454] Trial 52 finished with value: 0.8791662032468325 and parameters: {'n_neighbors': 41, 'algorithm': 'kd_tree', 'leaf_size': 47, 'p': 1}. Best is trial 52 with value: 0.8791662032468325.\n",
      "[I 2024-06-03 13:14:42,996] Trial 43 finished with value: 0.8767142734380685 and parameters: {'n_neighbors': 37, 'algorithm': 'brute', 'leaf_size': 29, 'p': 1}. Best is trial 52 with value: 0.8791662032468325.\n",
      "[I 2024-06-03 13:14:53,961] Trial 44 finished with value: 0.875125564864068 and parameters: {'n_neighbors': 36, 'algorithm': 'brute', 'leaf_size': 28, 'p': 1}. Best is trial 52 with value: 0.8791662032468325.\n",
      "[I 2024-06-03 13:14:58,346] Trial 45 finished with value: 0.8734395342167227 and parameters: {'n_neighbors': 34, 'algorithm': 'brute', 'leaf_size': 29, 'p': 1}. Best is trial 52 with value: 0.8791662032468325.\n",
      "[I 2024-06-03 13:15:12,120] Trial 53 finished with value: 0.8791662032468325 and parameters: {'n_neighbors': 41, 'algorithm': 'kd_tree', 'leaf_size': 47, 'p': 1}. Best is trial 53 with value: 0.8791662032468325.\n",
      "[I 2024-06-03 13:15:17,720] Trial 46 finished with value: 0.8734395342167227 and parameters: {'n_neighbors': 34, 'algorithm': 'brute', 'leaf_size': 27, 'p': 1}. Best is trial 53 with value: 0.8791662032468325.\n",
      "[I 2024-06-03 13:15:29,065] Trial 47 finished with value: 0.8737772320044278 and parameters: {'n_neighbors': 33, 'algorithm': 'brute', 'leaf_size': 50, 'p': 1}. Best is trial 53 with value: 0.8791662032468325.\n",
      "[I 2024-06-03 13:15:37,323] Trial 48 finished with value: 0.8737772320044278 and parameters: {'n_neighbors': 33, 'algorithm': 'brute', 'leaf_size': 27, 'p': 1}. Best is trial 53 with value: 0.8791662032468325.\n",
      "[I 2024-06-03 13:17:45,218] Trial 54 finished with value: 0.8791662032468325 and parameters: {'n_neighbors': 41, 'algorithm': 'kd_tree', 'leaf_size': 49, 'p': 1}. Best is trial 54 with value: 0.8791662032468325.\n",
      "[I 2024-06-03 13:18:35,632] Trial 55 finished with value: 0.8791662032468325 and parameters: {'n_neighbors': 41, 'algorithm': 'kd_tree', 'leaf_size': 45, 'p': 1}. Best is trial 55 with value: 0.8791662032468325.\n",
      "[I 2024-06-03 13:19:43,541] Trial 56 finished with value: 0.8791662032468325 and parameters: {'n_neighbors': 41, 'algorithm': 'kd_tree', 'leaf_size': 44, 'p': 1}. Best is trial 56 with value: 0.8791662032468325.\n",
      "[I 2024-06-03 13:20:33,294] Trial 57 finished with value: 0.879516588534624 and parameters: {'n_neighbors': 43, 'algorithm': 'kd_tree', 'leaf_size': 50, 'p': 1}. Best is trial 57 with value: 0.879516588534624.\n",
      "[I 2024-06-03 13:21:57,793] Trial 58 finished with value: 0.8798542813562017 and parameters: {'n_neighbors': 42, 'algorithm': 'kd_tree', 'leaf_size': 46, 'p': 1}. Best is trial 58 with value: 0.8798542813562017.\n",
      "[I 2024-06-03 13:22:15,433] Trial 60 finished with value: 0.8798542813562017 and parameters: {'n_neighbors': 42, 'algorithm': 'kd_tree', 'leaf_size': 49, 'p': 1}. Best is trial 60 with value: 0.8798542813562017.\n",
      "[I 2024-06-03 13:22:17,282] Trial 59 finished with value: 0.8798542813562017 and parameters: {'n_neighbors': 42, 'algorithm': 'kd_tree', 'leaf_size': 42, 'p': 1}. Best is trial 60 with value: 0.8798542813562017.\n",
      "[I 2024-06-03 13:22:28,559] Trial 61 finished with value: 0.8791662032468325 and parameters: {'n_neighbors': 41, 'algorithm': 'kd_tree', 'leaf_size': 50, 'p': 1}. Best is trial 58 with value: 0.8798542813562017.\n",
      "[I 2024-06-03 13:22:30,363] Trial 62 finished with value: 0.8798542813562017 and parameters: {'n_neighbors': 42, 'algorithm': 'kd_tree', 'leaf_size': 48, 'p': 1}. Best is trial 62 with value: 0.8798542813562017.\n",
      "[I 2024-06-03 13:22:59,134] Trial 64 finished with value: 0.8798542813562017 and parameters: {'n_neighbors': 42, 'algorithm': 'kd_tree', 'leaf_size': 41, 'p': 1}. Best is trial 64 with value: 0.8798542813562017.\n",
      "[I 2024-06-03 13:23:00,526] Trial 63 finished with value: 0.8798542813562017 and parameters: {'n_neighbors': 42, 'algorithm': 'kd_tree', 'leaf_size': 43, 'p': 1}. Best is trial 64 with value: 0.8798542813562017.\n",
      "[I 2024-06-03 13:25:22,246] Trial 65 finished with value: 0.8561447309406215 and parameters: {'n_neighbors': 26, 'algorithm': 'kd_tree', 'leaf_size': 41, 'p': 1}. Best is trial 58 with value: 0.8798542813562017.\n",
      "[I 2024-06-03 13:26:22,137] Trial 66 finished with value: 0.8298820973705536 and parameters: {'n_neighbors': 42, 'algorithm': 'kd_tree', 'leaf_size': 44, 'p': 2}. Best is trial 58 with value: 0.8798542813562017.\n",
      "[I 2024-06-03 13:26:52,221] Trial 49 finished with value: 0.8734395342167227 and parameters: {'n_neighbors': 34, 'algorithm': 'brute', 'leaf_size': 45, 'p': 1}. Best is trial 58 with value: 0.8798542813562017.\n",
      "[I 2024-06-03 13:27:46,150] Trial 67 finished with value: 0.8230696831499051 and parameters: {'n_neighbors': 24, 'algorithm': 'kd_tree', 'leaf_size': 41, 'p': 2}. Best is trial 58 with value: 0.8798542813562017.\n",
      "[I 2024-06-03 13:28:43,147] Trial 68 finished with value: 0.8282851228856073 and parameters: {'n_neighbors': 23, 'algorithm': 'kd_tree', 'leaf_size': 39, 'p': 2}. Best is trial 58 with value: 0.8798542813562017.\n",
      "[I 2024-06-03 13:29:54,626] Trial 69 finished with value: 0.8230696831499051 and parameters: {'n_neighbors': 24, 'algorithm': 'kd_tree', 'leaf_size': 40, 'p': 2}. Best is trial 58 with value: 0.8798542813562017.\n",
      "[I 2024-06-03 13:30:08,632] Trial 71 finished with value: 0.8230696831499051 and parameters: {'n_neighbors': 24, 'algorithm': 'kd_tree', 'leaf_size': 41, 'p': 2}. Best is trial 58 with value: 0.8798542813562017.\n",
      "[I 2024-06-03 13:30:11,693] Trial 70 finished with value: 0.8243032539329181 and parameters: {'n_neighbors': 25, 'algorithm': 'kd_tree', 'leaf_size': 41, 'p': 2}. Best is trial 58 with value: 0.8798542813562017.\n",
      "[I 2024-06-03 13:30:19,618] Trial 73 finished with value: 0.8243032539329181 and parameters: {'n_neighbors': 25, 'algorithm': 'kd_tree', 'leaf_size': 40, 'p': 2}. Best is trial 58 with value: 0.8798542813562017.\n",
      "[I 2024-06-03 13:30:23,271] Trial 72 finished with value: 0.8243032539329181 and parameters: {'n_neighbors': 25, 'algorithm': 'kd_tree', 'leaf_size': 41, 'p': 2}. Best is trial 58 with value: 0.8798542813562017.\n",
      "[I 2024-06-03 13:31:03,934] Trial 74 finished with value: 0.8243032539329181 and parameters: {'n_neighbors': 25, 'algorithm': 'kd_tree', 'leaf_size': 38, 'p': 2}. Best is trial 58 with value: 0.8798542813562017.\n",
      "[I 2024-06-03 13:31:13,974] Trial 75 finished with value: 0.8282851228856073 and parameters: {'n_neighbors': 23, 'algorithm': 'kd_tree', 'leaf_size': 39, 'p': 2}. Best is trial 58 with value: 0.8798542813562017.\n",
      "[I 2024-06-03 13:32:45,162] Trial 76 finished with value: 0.8624097958459321 and parameters: {'n_neighbors': 30, 'algorithm': 'kd_tree', 'leaf_size': 38, 'p': 1}. Best is trial 58 with value: 0.8798542813562017.\n"
     ]
    }
   ],
   "source": [
    "import optuna\n",
    "\n",
    "import sklearn.datasets\n",
    "import sklearn.ensemble\n",
    "import sklearn.model_selection\n",
    "import sklearn.svm\n",
    "\n",
    "\n",
    "def objective(trial):\n",
    "    n_neighbors = trial.suggest_int(\"n_neighbors\", 5, 50, log=True)\n",
    "    algorithm = trial.suggest_categorical(\"algorithm\", ['auto', 'ball_tree', 'kd_tree', 'brute'])\n",
    "    leaf_size = trial.suggest_int(\"leaf_size\", 5, 50, log=True)\n",
    "    p = trial.suggest_categorical(\"p\", [1, 2])\n",
    "    classifier_obj = LocalOutlierFactor(novelty=True, n_neighbors=n_neighbors, algorithm=algorithm, leaf_size=leaf_size, p=p)\n",
    "\n",
    "    accuracy = test(classifier_obj, df, attacks, benign, test_ood_OneClassSVM)\n",
    "    return accuracy\n",
    "\n",
    "\n",
    "study = optuna.create_study(\n",
    "    storage=OPTUNA_STORAGE,\n",
    "    direction=\"maximize\",\n",
    "    study_name=f\"LocalOutlierFactor_{datetime.datetime.now()}\"\n",
    ")\n",
    "study.optimize(objective, n_trials=100, n_jobs=-1, show_progress_bar=True)\n",
    "print(f\"Best value: {study.best_value} (params: {study.best_params})\")\n",
    "print(study.best_trial)"
   ]
  },
  {
   "cell_type": "code",
   "execution_count": null,
   "id": "105b0f3d-6126-4ebd-a6e2-d7d68b322553",
   "metadata": {
    "scrolled": true
   },
   "outputs": [],
   "source": [
    "import optuna\n",
    "\n",
    "import sklearn.datasets\n",
    "import sklearn.ensemble\n",
    "import sklearn.model_selection\n",
    "import sklearn.svm\n",
    "\n",
    "\n",
    "def objective(trial):\n",
    "    n_estimators = trial.suggest_int(\"n_estimators\", 20, 200, log=True)\n",
    "    max_features = trial.suggest_float(\"max_features\", 0.1, 1, log=True)\n",
    "    classifier_obj = IsolationForest(n_estimators=n_estimators, max_features=max_features)\n",
    "\n",
    "    accuracy = test(classifier_obj, df, attacks, benign, test_ood_OneClassSVM)\n",
    "    return accuracy\n",
    "\n",
    "\n",
    "study = optuna.create_study(\n",
    "    storage=OPTUNA_STORAGE,\n",
    "    direction=\"maximize\",\n",
    "    study_name=f\"IsolationForest_{datetime.datetime.now()}\"\n",
    ")\n",
    "study.optimize(objective, n_trials=100, n_jobs=-1, show_progress_bar=True)\n",
    "print(f\"Best value: {study.best_value} (params: {study.best_params})\")\n",
    "print(study.best_trial)"
   ]
  },
  {
   "cell_type": "code",
   "execution_count": null,
   "id": "ef0a011a-545f-4c6a-aadc-12a8b437b4a5",
   "metadata": {
    "scrolled": true
   },
   "outputs": [],
   "source": [
    "# import optuna\n",
    "\n",
    "# import sklearn.datasets\n",
    "# import sklearn.ensemble\n",
    "# import sklearn.model_selection\n",
    "# import sklearn.svm\n",
    "\n",
    "\n",
    "# # FYI: Objective functions can take additional arguments\n",
    "# # (https://optuna.readthedocs.io/en/stable/faq.html#objective-func-additional-args).\n",
    "# def objective(trial):\n",
    "#     iris = sklearn.datasets.load_iris()\n",
    "#     x, y = iris.data, iris.target\n",
    "\n",
    "#     classifier_name = trial.suggest_categorical(\"classifier\", [\"SVC\", \"RandomForest\"])\n",
    "#     if classifier_name == \"SVC\":\n",
    "#         svc_c = trial.suggest_float(\"svc_c\", 1e-10, 1e10, log=True)\n",
    "#         classifier_obj = sklearn.svm.SVC(C=svc_c, gamma=\"auto\")\n",
    "#     else:\n",
    "#         rf_max_depth = trial.suggest_int(\"rf_max_depth\", 2, 32, log=True)\n",
    "#         classifier_obj = sklearn.ensemble.RandomForestClassifier(\n",
    "#             max_depth=rf_max_depth, n_estimators=10\n",
    "#         )\n",
    "\n",
    "#     score = sklearn.model_selection.cross_val_score(classifier_obj, x, y, n_jobs=-1, cv=3)\n",
    "#     accuracy = score.mean()\n",
    "#     return accuracy\n",
    "\n",
    "\n",
    "# study = optuna.create_study(direction=\"maximize\")\n",
    "# study = optuna.create_study(\n",
    "#     storage=\"sqlite:///db.sqlite3\",  # Specify the storage URL here.\n",
    "#     study_name=\"quadratic-simple2\"\n",
    "# )\n",
    "# study.optimize(objective, n_trials=100)\n",
    "# print(f\"Best value: {study.best_value} (params: {study.best_params})\")\n",
    "# print(study.best_trial)"
   ]
  },
  {
   "cell_type": "code",
   "execution_count": null,
   "id": "77fa0c8e-2202-4ae6-9777-49f20f276c37",
   "metadata": {},
   "outputs": [],
   "source": [
    "a = np.array([[1,2,3], [1,2,3], [1,2,3]])\n",
    "b = np.array([[4,5,6], [4,5,6], [4,5,6]])"
   ]
  },
  {
   "cell_type": "code",
   "execution_count": null,
   "id": "d937a4cb-13e3-45d9-9db3-43f61882858c",
   "metadata": {},
   "outputs": [],
   "source": [
    "np.append(a,b)"
   ]
  },
  {
   "cell_type": "code",
   "execution_count": null,
   "id": "8d710c08-6ebb-4736-9214-77e46ba99e6b",
   "metadata": {},
   "outputs": [],
   "source": []
  }
 ],
 "metadata": {
  "kernelspec": {
   "display_name": "attack-detection",
   "language": "python",
   "name": "attack-detection"
  },
  "language_info": {
   "codemirror_mode": {
    "name": "ipython",
    "version": 3
   },
   "file_extension": ".py",
   "mimetype": "text/x-python",
   "name": "python",
   "nbconvert_exporter": "python",
   "pygments_lexer": "ipython3",
   "version": "3.10.10"
  }
 },
 "nbformat": 4,
 "nbformat_minor": 5
}
