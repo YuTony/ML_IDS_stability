{
 "cells": [
  {
   "cell_type": "markdown",
   "id": "cd685f98",
   "metadata": {},
   "source": [
    "1. список детекторов\n",
    "1. поиск тх для детекторов\n",
    "1. скоры для всех детекторов"
   ]
  },
  {
   "cell_type": "code",
   "execution_count": 1,
   "id": "4edd1612",
   "metadata": {},
   "outputs": [],
   "source": [
    "import pandas as pd\n",
    "import numpy as np\n",
    "from sklearn.model_selection import train_test_split\n",
    "from sklearn.metrics import accuracy_score, precision_score, recall_score, f1_score\n",
    "from tqdm.auto import tqdm\n",
    "import matplotlib.pyplot as plt\n",
    "import lightgbm as lgb\n",
    "import seaborn as sns"
   ]
  },
  {
   "cell_type": "code",
   "execution_count": 2,
   "id": "ffd4bf5b",
   "metadata": {},
   "outputs": [],
   "source": [
    "from river import anomaly\n",
    "from river import stream\n",
    "from river import evaluate\n",
    "from river import metrics\n",
    "from river import compose\n",
    "from river import preprocessing"
   ]
  },
  {
   "cell_type": "code",
   "execution_count": 3,
   "id": "ea12578c",
   "metadata": {},
   "outputs": [],
   "source": [
    "from sklearn.svm import OneClassSVM\n",
    "from sklearn.neighbors import LocalOutlierFactor\n",
    "from sklearn.metrics import classification_report\n",
    "from sklearn.preprocessing import MinMaxScaler\n",
    "from sklearn.ensemble import IsolationForest"
   ]
  },
  {
   "cell_type": "code",
   "execution_count": 4,
   "id": "c592c838",
   "metadata": {},
   "outputs": [],
   "source": [
    "PROJECT_ROOT                     = \"../../\"\n",
    "\n",
    "SOURCE_DATASET_ROOT              = PROJECT_ROOT + \"datasets/isp3/\"\n",
    "\n",
    "SOURCE_DATASET_FILENAME          = SOURCE_DATASET_ROOT + \"[dvwa.isp_xvwa.isp]_https_apache.csv\"\n",
    "SOURCE_DATASET_FILENAME_D        = SOURCE_DATASET_ROOT + \"[dvwa.isp]_https_apache.csv\"\n",
    "SOURCE_DATASET_FILENAME_X        = SOURCE_DATASET_ROOT + \"[xvwa.isp]_https_apache.csv\"\n",
    "\n",
    "SOURCE_DATASET_FILENAME_ADD      = SOURCE_DATASET_ROOT + \"[xvwa.isp]_https_apache_xss_xsstrike_[5][1-0][delay0ms][-]_[2024-05-22][13.36.48].csv\"\n",
    "# SOURCE_DATASET_TRAIN_FILENAME    = SOURCE_DATASET_ROOT + \"DataSetN_Train.csv\"\n",
    "# SOURCE_DATASET_TEST_FILENAME     = SOURCE_DATASET_ROOT + \"DataSetN_Test.csv\""
   ]
  },
  {
   "cell_type": "markdown",
   "id": "1090ae16",
   "metadata": {},
   "source": [
    "# Фичи"
   ]
  },
  {
   "cell_type": "code",
   "execution_count": 5,
   "id": "f7c207f0",
   "metadata": {},
   "outputs": [
    {
     "name": "stderr",
     "output_type": "stream",
     "text": [
      "/tmp/ipykernel_9173/3322869287.py:1: DtypeWarning: Columns (3,103,121) have mixed types. Specify dtype option on import or set low_memory=False.\n",
      "  df = pd.read_csv(SOURCE_DATASET_FILENAME)\n"
     ]
    },
    {
     "data": {
      "text/plain": [
       "Label\n",
       "Web Attack - DDoS                 65295\n",
       "Benign                             4446\n",
       "Web Attack - XSS                   2686\n",
       "Web Attack - SQL Injection         1483\n",
       "Web Attack - Command Injection     1400\n",
       "Web Attack - Brute Force            497\n",
       "Web Attack - Web Shell              353\n",
       "Web Attack - CSRF                    60\n",
       "Name: count, dtype: int64"
      ]
     },
     "execution_count": 5,
     "metadata": {},
     "output_type": "execute_result"
    }
   ],
   "source": [
    "df = pd.read_csv(SOURCE_DATASET_FILENAME)\n",
    "df['Label'].value_counts()"
   ]
  },
  {
   "cell_type": "code",
   "execution_count": 6,
   "id": "3c5a3e87",
   "metadata": {},
   "outputs": [],
   "source": [
    "excluded = ['Flow_ID', 'Source_IP', 'Source_Port', 'Destination_IP', 'Destination_Port', 'Protocol', 'Timestamp', \"Unnamed: 0\", \"xvwa.isp\", \"Label\", \"dvwa.isp\"]\n",
    "df = df.drop(columns=excluded, errors='ignore')"
   ]
  },
  {
   "cell_type": "code",
   "execution_count": 7,
   "id": "87166feb",
   "metadata": {},
   "outputs": [],
   "source": [
    "excluded2 = ['Session_Index',  'Target','Http_Reqest','Root','GlobalLabel','Type','Tools','ToolsThreads','ToolsDelay','ToolsAdditional',\n",
    "             'ChannelSpeedBefore','ChannelSpeedAfter','NetemString','Server','KeepAliveTimeout','TargetProtocol','File','SessionAnalizerMode']\n",
    "df = df.drop(columns=excluded2)"
   ]
  },
  {
   "cell_type": "code",
   "execution_count": 8,
   "id": "66fe6bf7",
   "metadata": {
    "scrolled": true
   },
   "outputs": [],
   "source": [
    "webattack_features = list(df.columns)"
   ]
  },
  {
   "cell_type": "code",
   "execution_count": 9,
   "id": "fafc6f2f",
   "metadata": {},
   "outputs": [
    {
     "name": "stderr",
     "output_type": "stream",
     "text": [
      "/tmp/ipykernel_9173/3322869287.py:1: DtypeWarning: Columns (3,103,121) have mixed types. Specify dtype option on import or set low_memory=False.\n",
      "  df = pd.read_csv(SOURCE_DATASET_FILENAME)\n"
     ]
    },
    {
     "data": {
      "text/plain": [
       "Label\n",
       "Web Attack - DDoS                 65295\n",
       "Benign                             4446\n",
       "Web Attack - XSS                   2686\n",
       "Web Attack - SQL Injection         1483\n",
       "Web Attack - Command Injection     1400\n",
       "Web Attack - Brute Force            497\n",
       "Web Attack - Web Shell              353\n",
       "Web Attack - CSRF                    60\n",
       "Name: count, dtype: int64"
      ]
     },
     "execution_count": 9,
     "metadata": {},
     "output_type": "execute_result"
    }
   ],
   "source": [
    "df = pd.read_csv(SOURCE_DATASET_FILENAME)\n",
    "df['Label'].value_counts()"
   ]
  },
  {
   "cell_type": "code",
   "execution_count": 10,
   "id": "988e8781-1136-479f-8e9e-004f4aff069f",
   "metadata": {},
   "outputs": [
    {
     "data": {
      "text/plain": [
       "Label\n",
       "Web Attack - DDoS                 65295\n",
       "Benign                             4446\n",
       "Web Attack - XSS - xsstrike        3077\n",
       "Web Attack - XSS                   2686\n",
       "Web Attack - SQL Injection         1483\n",
       "Web Attack - Command Injection     1400\n",
       "Web Attack - Brute Force            497\n",
       "Web Attack - Web Shell              353\n",
       "Web Attack - CSRF                    60\n",
       "Name: count, dtype: int64"
      ]
     },
     "execution_count": 10,
     "metadata": {},
     "output_type": "execute_result"
    }
   ],
   "source": [
    "df_add = pd.read_csv(SOURCE_DATASET_FILENAME_ADD)\n",
    "df_add[\"Label\"] = df_add[\"Label\"] + \" - xsstrike\"\n",
    "df = pd.concat([df, df_add])\n",
    "df[\"Label\"].value_counts()"
   ]
  },
  {
   "cell_type": "code",
   "execution_count": 11,
   "id": "ff6a1d39-e552-4fb8-873b-d24941416174",
   "metadata": {},
   "outputs": [
    {
     "data": {
      "text/plain": [
       "Label\n",
       "Web Attack - DDoS                 65295\n",
       "Benign                             4446\n",
       "Web Attack - XSS - xsstrike        3077\n",
       "Web Attack - XSS - xsser           2686\n",
       "Web Attack - SQL Injection         1483\n",
       "Web Attack - Command Injection     1400\n",
       "Web Attack - Brute Force            497\n",
       "Web Attack - Web Shell              353\n",
       "Web Attack - CSRF                    60\n",
       "Name: count, dtype: int64"
      ]
     },
     "execution_count": 11,
     "metadata": {},
     "output_type": "execute_result"
    }
   ],
   "source": [
    "df.loc[df[\"Label\"] == \"Web Attack - XSS\", \"Label\"] += \" - xsser\"\n",
    "df[\"Label\"].value_counts()"
   ]
  },
  {
   "cell_type": "code",
   "execution_count": 12,
   "id": "542ff999",
   "metadata": {},
   "outputs": [
    {
     "data": {
      "text/plain": [
       "Label\n",
       "Benign                            4446\n",
       "Web Attack - DDoS                 3918\n",
       "Web Attack - XSS - xsser          2686\n",
       "Web Attack - XSS - xsstrike       2319\n",
       "Web Attack - SQL Injection        1483\n",
       "Web Attack - Command Injection    1400\n",
       "Web Attack - Brute Force           497\n",
       "Web Attack - Web Shell             353\n",
       "Web Attack - CSRF                   60\n",
       "Name: count, dtype: int64"
      ]
     },
     "execution_count": 12,
     "metadata": {},
     "output_type": "execute_result"
    }
   ],
   "source": [
    "label_rows = df[df['Label'] == 'Web Attack - DDoS']\n",
    "rows_to_remove = label_rows.sample(frac=0.94, random_state=42)\n",
    "df = df.drop(index=rows_to_remove.index)\n",
    "df['Label'].value_counts()"
   ]
  },
  {
   "cell_type": "code",
   "execution_count": 13,
   "id": "b5600ceb-fd49-4236-8c22-410fb23aa243",
   "metadata": {},
   "outputs": [
    {
     "data": {
      "text/plain": [
       "Label\n",
       "Benign                            4446\n",
       "Web Attack - DDoS                 3918\n",
       "Web Attack - XSS - xsser          2686\n",
       "Web Attack - XSS - xsstrike       2319\n",
       "Web Attack - SQL Injection        1483\n",
       "Web Attack - Command Injection    1400\n",
       "Web Attack - Brute Force           497\n",
       "Web Attack - Web Shell             353\n",
       "Web Attack - CSRF                   60\n",
       "Name: count, dtype: int64"
      ]
     },
     "execution_count": 13,
     "metadata": {},
     "output_type": "execute_result"
    }
   ],
   "source": [
    "df['Label'].value_counts()"
   ]
  },
  {
   "cell_type": "code",
   "execution_count": 14,
   "id": "916fe3fa-a7d9-4f9f-8b94-84007094c14e",
   "metadata": {},
   "outputs": [],
   "source": [
    "df = df[webattack_features + [\"Label\"]].dropna()"
   ]
  },
  {
   "cell_type": "code",
   "execution_count": 15,
   "id": "ce8710b3",
   "metadata": {},
   "outputs": [],
   "source": [
    "attacks = {\n",
    "    'Web Attack - XSS - xsser',\n",
    "    \"Web Attack - XSS - xsstrike\",\n",
    "    'Web Attack - CSRF',\n",
    "    'Web Attack - Brute Force',\n",
    "    'Web Attack - Web Shell',\n",
    "    'Web Attack - Command Injection',\n",
    "    'Web Attack - SQL Injection',\n",
    "    'Web Attack - DDoS'\n",
    "}\n",
    "\n",
    "attack_to_exclude = {'Web Attack - XSS - xsstrike'}\n",
    "\n",
    "benign = {'Benign', 'FromInSide'}"
   ]
  },
  {
   "cell_type": "code",
   "execution_count": 16,
   "id": "e2a6d849",
   "metadata": {},
   "outputs": [],
   "source": [
    "df['Label'] = df['Label'].replace(to_replace=benign, value='Benign')\n",
    "df_full = df[df['Label'].isin(attacks | benign)]\n",
    "df_part = df_full[~df_full['Label'].isin(attack_to_exclude)]"
   ]
  },
  {
   "cell_type": "code",
   "execution_count": 17,
   "id": "7f79b373",
   "metadata": {},
   "outputs": [],
   "source": [
    "def prepare_dataset(df, train_size=0.2, test_size=0.8):\n",
    "    X = df[webattack_features]\n",
    "    y = df['Label']\n",
    "    if train_size == 0 and test_size == 1:\n",
    "        return [], X, [], y\n",
    "    else:\n",
    "        X_train, X_test, y_train, y_test = train_test_split(X,y, stratify=y, \n",
    "                                                            train_size=train_size, test_size=test_size, shuffle=True, random_state=0)\n",
    "    return X_train, X_test, y_train, y_test"
   ]
  },
  {
   "cell_type": "code",
   "execution_count": 18,
   "id": "89fb8a2a",
   "metadata": {},
   "outputs": [],
   "source": [
    "_, X_test1, _, y_test1 = prepare_dataset(df_part, train_size=0, test_size=1)"
   ]
  },
  {
   "cell_type": "code",
   "execution_count": 19,
   "id": "7a938489",
   "metadata": {},
   "outputs": [],
   "source": [
    "_, X_test2, _, y_test2 = prepare_dataset(df_full, train_size=0, test_size=1)"
   ]
  },
  {
   "cell_type": "code",
   "execution_count": 20,
   "id": "d496f1ef",
   "metadata": {},
   "outputs": [
    {
     "data": {
      "text/plain": [
       "Label\n",
       "Benign                            4446\n",
       "Web Attack - DDoS                 3918\n",
       "Web Attack - XSS - xsser          2686\n",
       "Web Attack - SQL Injection        1483\n",
       "Web Attack - Command Injection    1400\n",
       "Web Attack - Brute Force           497\n",
       "Web Attack - Web Shell             353\n",
       "Web Attack - CSRF                   60\n",
       "Name: count, dtype: int64"
      ]
     },
     "execution_count": 20,
     "metadata": {},
     "output_type": "execute_result"
    }
   ],
   "source": [
    "df_part[\"Label\"].value_counts()"
   ]
  },
  {
   "cell_type": "code",
   "execution_count": 21,
   "id": "ae8bf029-a822-4f51-a7d9-185cb955708c",
   "metadata": {},
   "outputs": [
    {
     "data": {
      "text/plain": [
       "Label\n",
       "Benign                            4446\n",
       "Web Attack - DDoS                 3918\n",
       "Web Attack - XSS - xsser          2686\n",
       "Web Attack - XSS - xsstrike       2319\n",
       "Web Attack - SQL Injection        1483\n",
       "Web Attack - Command Injection    1400\n",
       "Web Attack - Brute Force           497\n",
       "Web Attack - Web Shell             353\n",
       "Web Attack - CSRF                   60\n",
       "Name: count, dtype: int64"
      ]
     },
     "execution_count": 21,
     "metadata": {},
     "output_type": "execute_result"
    }
   ],
   "source": [
    "df_full[\"Label\"].value_counts()"
   ]
  },
  {
   "cell_type": "markdown",
   "id": "1870c2f1",
   "metadata": {},
   "source": [
    "# Границы"
   ]
  },
  {
   "cell_type": "code",
   "execution_count": 22,
   "id": "eade6202-bd1a-4638-8488-d2b14fdf964e",
   "metadata": {},
   "outputs": [],
   "source": [
    "def add_result(result, key, val):\n",
    "    if key in result:\n",
    "        result[key].append(val)\n",
    "    else:\n",
    "        result[key] = [val]"
   ]
  },
  {
   "cell_type": "code",
   "execution_count": 23,
   "id": "adbcca43",
   "metadata": {},
   "outputs": [],
   "source": [
    "def test(df, attacks, benign, test_ood):\n",
    "    df_full = df[df['Label'].isin(attacks | benign)]\n",
    "    result = {\"Label\": []}\n",
    "    for attack_to_exclude in tqdm([\"Web Attack - XSS - xsstrike\", \"Web Attack - XSS - xsser\"]):\n",
    "        report, name = test_ood(df_full, {attack_to_exclude})\n",
    "        \n",
    "        result[\"Label\"].append(attack_to_exclude)\n",
    "        # add_result(result, name, f\"{report._f1s[True].recall.get()*100}/{report._f1s[False].get()*100}\")\n",
    "        add_result(result, \"recall for anomaly\", report._f1s[True].recall.get())\n",
    "        add_result(result, \"f1 for normal\", report._f1s[False].get())\n",
    "    result = pd.DataFrame(result)\n",
    "    result = result.set_index(\"Label\")\n",
    "    columns=[(name, c) for c in result.columns]\n",
    "    result.columns=pd.MultiIndex.from_tuples(columns)\n",
    "    return result"
   ]
  },
  {
   "cell_type": "code",
   "execution_count": 24,
   "id": "ad1e5c58",
   "metadata": {},
   "outputs": [],
   "source": [
    "def test_ood_OneClassSVM(df, attack_to_exclude):\n",
    "    def comp_threshold(scores: np.ndarray):\n",
    "        for i in np.linspace(0.0, 0.9, num=50):\n",
    "            res = (scores<i).sum()/scores.shape[0]\n",
    "            if res>0.95:\n",
    "                return i\n",
    "    \n",
    "    def prepare_df(df):\n",
    "        X = df[webattack_features]\n",
    "        y = df['Label']\n",
    "        MinMaxScaler(df[webattack_features])\n",
    "        return X, y\n",
    "\n",
    "    def fit(df):\n",
    "        X, y = prepare_df(df)\n",
    "        model = OneClassSVM(nu=0.0021468216988400914, kernel='linear', gamma='auto')\n",
    "        model = model.fit(X.to_numpy())\n",
    "    \n",
    "        scores = model.score_samples(X.to_numpy())\n",
    "        th = comp_threshold(scores)\n",
    "        return model, th\n",
    "    \n",
    "    df_part = df[~df['Label'].isin(attack_to_exclude)]\n",
    "    model, th = fit(df_part)\n",
    "    \n",
    "    X, y = prepare_df(df)\n",
    "    \n",
    "    report = metrics.ClassificationReport()\n",
    "    result = {\"Label\": [], \"Score\": [], \"is_anomaly\": []}\n",
    "    for x, yi1 in tqdm(stream.iter_pandas(X, y), total=y.shape[0], leave=False):\n",
    "        x = np.array(list(x.values())).reshape(1, -1)\n",
    "        result[\"Label\"].append(yi1)\n",
    "        is_anomaly = model.predict(x)[0] == -1\n",
    "        result[\"is_anomaly\"].append(is_anomaly)\n",
    "        report.update(yi1 in attack_to_exclude, is_anomaly)\n",
    "        \n",
    "    print(report)\n",
    "    return report, \"OCSVM\""
   ]
  },
  {
   "cell_type": "code",
   "execution_count": 25,
   "id": "5adfebce",
   "metadata": {},
   "outputs": [],
   "source": [
    "def test_ood_LocalOutlierFactor(df, attack_to_exclude):\n",
    "    def prepare_df(df):\n",
    "        X = df[webattack_features]\n",
    "        y = df['Label']\n",
    "        return X, y\n",
    "    \n",
    "    def fit(df):\n",
    "        X, y = prepare_df(df)\n",
    "        model = LocalOutlierFactor(novelty=True)\n",
    "        # for x, yil in tqdm(stream.iter_pandas(X, y), total=y.shape[0], leave=False):\n",
    "        #     x = np.array(list(x.values())).reshape(1, -1)\n",
    "        #     model = model.fit(x)\n",
    "        model = model.fit(X.to_numpy())\n",
    "        return model\n",
    "    \n",
    "    df_part = df[~df['Label'].isin(attack_to_exclude)]\n",
    "    model = fit(df_part)\n",
    "    \n",
    "    X, y = prepare_df(df)\n",
    "    \n",
    "    report = metrics.ClassificationReport()\n",
    "    result = {\"Label\": [], \"Score\": [], \"is_anomaly\": []}\n",
    "    for x, yi1 in tqdm(stream.iter_pandas(X, y), total=y.shape[0], leave=False):\n",
    "        x = np.array(list(x.values())).reshape(1, -1)\n",
    "        result[\"Label\"].append(yi1)\n",
    "        is_anomaly = model.predict(x)[0] == -1\n",
    "        result[\"is_anomaly\"].append(is_anomaly)\n",
    "        report.update(yi1 in attack_to_exclude, is_anomaly)\n",
    "        \n",
    "    print(report)\n",
    "    return report, \"LOF\""
   ]
  },
  {
   "cell_type": "code",
   "execution_count": 26,
   "id": "eda3513d",
   "metadata": {},
   "outputs": [],
   "source": [
    "def test_ood_IsolationForest(df, attack_to_exclude):\n",
    "    def prepare_df(df):\n",
    "        X = df[webattack_features]\n",
    "        y = df['Label']\n",
    "        return X, y\n",
    "    \n",
    "    def fit(df):\n",
    "        X, y = prepare_df(df)\n",
    "        model = IsolationForest()\n",
    "        # for x, yil in tqdm(stream.iter_pandas(X, y), total=y.shape[0], leave=False):\n",
    "        #     x = np.array(list(x.values())).reshape(1, -1)\n",
    "        #     model = model.fit(x)\n",
    "        model = model.fit(X.to_numpy())\n",
    "        return model\n",
    "    \n",
    "    df_part = df[~df['Label'].isin(attack_to_exclude)]\n",
    "    model = fit(df_part)\n",
    "    \n",
    "    X, y = prepare_df(df)\n",
    "    \n",
    "    report = metrics.ClassificationReport()\n",
    "    result = {\"Label\": [], \"Score\": [], \"is_anomaly\": []}\n",
    "    for x, yi1 in tqdm(stream.iter_pandas(X, y), total=y.shape[0], leave=False):\n",
    "        x = np.array(list(x.values())).reshape(1, -1)\n",
    "        result[\"Label\"].append(yi1)\n",
    "        is_anomaly = model.predict(x)[0] == -1\n",
    "        result[\"is_anomaly\"].append(is_anomaly)\n",
    "        report.update(yi1 in attack_to_exclude, is_anomaly)\n",
    "        \n",
    "    print(report)\n",
    "    return report, \"IF\""
   ]
  },
  {
   "cell_type": "code",
   "execution_count": 27,
   "id": "696cc58f",
   "metadata": {},
   "outputs": [],
   "source": [
    "class AnsambleOOD:\n",
    "    def __init__(self, models: list):\n",
    "        self.models = models\n",
    "        \n",
    "    def fit(self, X):\n",
    "        for model in self.models:\n",
    "            model.fit(X)\n",
    "        return self\n",
    "            \n",
    "    def predict(self, X):\n",
    "        scores = np.zeros(X.shape[0])\n",
    "        for model in self.models:\n",
    "            scores += model.predict(X)\n",
    "        return scores"
   ]
  },
  {
   "cell_type": "code",
   "execution_count": 28,
   "id": "bb7d029b",
   "metadata": {},
   "outputs": [],
   "source": [
    "def test_ood_AnsambleOOD(df, attack_to_exclude):\n",
    "    def prepare_df(df):\n",
    "        X = df[webattack_features]\n",
    "        y = df['Label']\n",
    "        return X, y\n",
    "    \n",
    "    def fit(df):\n",
    "        X, y = prepare_df(df)\n",
    "        model = AnsambleOOD([\n",
    "            OneClassSVM(kernel='rbf', gamma='auto', nu=0.01),\n",
    "            LocalOutlierFactor(novelty=True),\n",
    "            IsolationForest()\n",
    "        ])\n",
    "        model = model.fit(X.to_numpy())\n",
    "        return model\n",
    "    \n",
    "    df_part = df[~df['Label'].isin(attack_to_exclude)]\n",
    "    model = fit(df_part)\n",
    "    \n",
    "    X, y = prepare_df(df)\n",
    "    \n",
    "    report = metrics.ClassificationReport()\n",
    "    result = {\"Label\": [], \"Score\": [], \"is_anomaly\": []}\n",
    "    for x, yi1 in tqdm(stream.iter_pandas(X, y), total=y.shape[0], leave=False):\n",
    "        x = np.array(list(x.values())).reshape(1, -1)\n",
    "        result[\"Label\"].append(yi1)\n",
    "        is_anomaly = model.predict(x)[0] < 0\n",
    "        result[\"is_anomaly\"].append(is_anomaly)\n",
    "        report.update(yi1 in attack_to_exclude, is_anomaly)\n",
    "        \n",
    "    print(report)\n",
    "    return report, \"Ensemble\""
   ]
  },
  {
   "cell_type": "code",
   "execution_count": 29,
   "id": "e7224582",
   "metadata": {
    "scrolled": true
   },
   "outputs": [
    {
     "data": {
      "application/vnd.jupyter.widget-view+json": {
       "model_id": "7fcf39846ecb4deb8fefc7f7b74119fb",
       "version_major": 2,
       "version_minor": 0
      },
      "text/plain": [
       "  0%|          | 0/2 [00:00<?, ?it/s]"
      ]
     },
     "metadata": {},
     "output_type": "display_data"
    },
    {
     "data": {
      "application/vnd.jupyter.widget-view+json": {
       "model_id": "",
       "version_major": 2,
       "version_minor": 0
      },
      "text/plain": [
       "  0%|          | 0/17162 [00:00<?, ?it/s]"
      ]
     },
     "metadata": {},
     "output_type": "display_data"
    },
    {
     "name": "stdout",
     "output_type": "stream",
     "text": [
      "           Precision   Recall   F1       Support  \n",
      "                                                  \n",
      "   False      86.47%   99.78%   92.65%     14843  \n",
      "    True       5.88%    0.09%    0.17%      2319  \n",
      "                                                  \n",
      "   Macro      46.18%   49.94%   46.41%            \n",
      "   Micro      86.31%   86.31%   86.31%            \n",
      "Weighted      75.58%   86.31%   80.16%            \n",
      "\n",
      "                 86.31% accuracy                  \n"
     ]
    },
    {
     "data": {
      "application/vnd.jupyter.widget-view+json": {
       "model_id": "",
       "version_major": 2,
       "version_minor": 0
      },
      "text/plain": [
       "  0%|          | 0/17162 [00:00<?, ?it/s]"
      ]
     },
     "metadata": {},
     "output_type": "display_data"
    },
    {
     "name": "stdout",
     "output_type": "stream",
     "text": [
      "           Precision   Recall   F1       Support  \n",
      "                                                  \n",
      "   False      84.34%   99.77%   91.41%     14476  \n",
      "    True      13.16%    0.19%    0.37%      2686  \n",
      "                                                  \n",
      "   Macro      48.75%   49.98%   45.89%            \n",
      "   Micro      84.19%   84.19%   84.19%            \n",
      "Weighted      73.20%   84.19%   77.16%            \n",
      "\n",
      "                 84.19% accuracy                  \n"
     ]
    }
   ],
   "source": [
    "result1 = test(df, attacks, benign, test_ood_OneClassSVM)"
   ]
  },
  {
   "cell_type": "code",
   "execution_count": 30,
   "id": "c0486ad0",
   "metadata": {
    "scrolled": true
   },
   "outputs": [
    {
     "data": {
      "application/vnd.jupyter.widget-view+json": {
       "model_id": "353be2abab5e42a2851e9f694f485516",
       "version_major": 2,
       "version_minor": 0
      },
      "text/plain": [
       "  0%|          | 0/2 [00:00<?, ?it/s]"
      ]
     },
     "metadata": {},
     "output_type": "display_data"
    },
    {
     "data": {
      "application/vnd.jupyter.widget-view+json": {
       "model_id": "",
       "version_major": 2,
       "version_minor": 0
      },
      "text/plain": [
       "  0%|          | 0/17162 [00:00<?, ?it/s]"
      ]
     },
     "metadata": {},
     "output_type": "display_data"
    },
    {
     "name": "stdout",
     "output_type": "stream",
     "text": [
      "           Precision   Recall   F1       Support  \n",
      "                                                  \n",
      "   False      85.58%   92.70%   88.99%     14843  \n",
      "    True       0.00%    0.00%    0.00%      2319  \n",
      "                                                  \n",
      "   Macro      42.79%   46.35%   44.50%            \n",
      "   Micro      80.17%   80.17%   80.17%            \n",
      "Weighted      74.01%   80.17%   76.97%            \n",
      "\n",
      "                 80.17% accuracy                  \n"
     ]
    },
    {
     "data": {
      "application/vnd.jupyter.widget-view+json": {
       "model_id": "",
       "version_major": 2,
       "version_minor": 0
      },
      "text/plain": [
       "  0%|          | 0/17162 [00:00<?, ?it/s]"
      ]
     },
     "metadata": {},
     "output_type": "display_data"
    },
    {
     "name": "stdout",
     "output_type": "stream",
     "text": [
      "           Precision   Recall   F1       Support  \n",
      "                                                  \n",
      "   False      83.36%   92.42%   87.66%     14476  \n",
      "    True       1.44%    0.60%    0.84%      2686  \n",
      "                                                  \n",
      "   Macro      42.40%   46.51%   44.25%            \n",
      "   Micro      78.05%   78.05%   78.05%            \n",
      "Weighted      70.54%   78.05%   74.07%            \n",
      "\n",
      "                 78.05% accuracy                  \n"
     ]
    }
   ],
   "source": [
    "result2 = test(df, attacks, benign, test_ood_IsolationForest)"
   ]
  },
  {
   "cell_type": "code",
   "execution_count": 31,
   "id": "7c896886",
   "metadata": {
    "scrolled": true
   },
   "outputs": [
    {
     "data": {
      "application/vnd.jupyter.widget-view+json": {
       "model_id": "8349f458540a4189a5d79cd04684a293",
       "version_major": 2,
       "version_minor": 0
      },
      "text/plain": [
       "  0%|          | 0/2 [00:00<?, ?it/s]"
      ]
     },
     "metadata": {},
     "output_type": "display_data"
    },
    {
     "data": {
      "application/vnd.jupyter.widget-view+json": {
       "model_id": "",
       "version_major": 2,
       "version_minor": 0
      },
      "text/plain": [
       "  0%|          | 0/17162 [00:00<?, ?it/s]"
      ]
     },
     "metadata": {},
     "output_type": "display_data"
    },
    {
     "name": "stdout",
     "output_type": "stream",
     "text": [
      "           Precision   Recall   F1       Support  \n",
      "                                                  \n",
      "   False      87.30%   89.78%   88.52%     14843  \n",
      "    True      20.03%   16.39%   18.03%      2319  \n",
      "                                                  \n",
      "   Macro      53.66%   53.08%   53.27%            \n",
      "   Micro      79.86%   79.86%   79.86%            \n",
      "Weighted      78.21%   79.86%   79.00%            \n",
      "\n",
      "                 79.86% accuracy                  \n"
     ]
    },
    {
     "data": {
      "application/vnd.jupyter.widget-view+json": {
       "model_id": "",
       "version_major": 2,
       "version_minor": 0
      },
      "text/plain": [
       "  0%|          | 0/17162 [00:00<?, ?it/s]"
      ]
     },
     "metadata": {},
     "output_type": "display_data"
    },
    {
     "name": "stdout",
     "output_type": "stream",
     "text": [
      "           Precision   Recall   F1       Support  \n",
      "                                                  \n",
      "   False      94.76%   89.73%   92.18%     14476  \n",
      "    True      56.96%   73.27%   64.09%      2686  \n",
      "                                                  \n",
      "   Macro      75.86%   81.50%   78.13%            \n",
      "   Micro      87.15%   87.15%   87.15%            \n",
      "Weighted      88.85%   87.15%   87.78%            \n",
      "\n",
      "                 87.15% accuracy                  \n"
     ]
    }
   ],
   "source": [
    "result3 = test(df, attacks, benign, test_ood_LocalOutlierFactor)"
   ]
  },
  {
   "cell_type": "code",
   "execution_count": 32,
   "id": "b2f45088",
   "metadata": {
    "scrolled": true
   },
   "outputs": [
    {
     "data": {
      "application/vnd.jupyter.widget-view+json": {
       "model_id": "765c2ec7dcb548f2b3798b300fae6e13",
       "version_major": 2,
       "version_minor": 0
      },
      "text/plain": [
       "  0%|          | 0/2 [00:00<?, ?it/s]"
      ]
     },
     "metadata": {},
     "output_type": "display_data"
    },
    {
     "data": {
      "application/vnd.jupyter.widget-view+json": {
       "model_id": "",
       "version_major": 2,
       "version_minor": 0
      },
      "text/plain": [
       "  0%|          | 0/17162 [00:00<?, ?it/s]"
      ]
     },
     "metadata": {},
     "output_type": "display_data"
    },
    {
     "name": "stdout",
     "output_type": "stream",
     "text": [
      "           Precision   Recall   F1       Support  \n",
      "                                                  \n",
      "   False      86.60%   84.40%   85.49%     14843  \n",
      "    True      14.10%   16.39%   15.16%      2319  \n",
      "                                                  \n",
      "   Macro      50.35%   50.39%   50.32%            \n",
      "   Micro      75.21%   75.21%   75.21%            \n",
      "Weighted      76.80%   75.21%   75.98%            \n",
      "\n",
      "                 75.21% accuracy                  \n"
     ]
    },
    {
     "data": {
      "application/vnd.jupyter.widget-view+json": {
       "model_id": "",
       "version_major": 2,
       "version_minor": 0
      },
      "text/plain": [
       "  0%|          | 0/17162 [00:00<?, ?it/s]"
      ]
     },
     "metadata": {},
     "output_type": "display_data"
    },
    {
     "name": "stdout",
     "output_type": "stream",
     "text": [
      "           Precision   Recall   F1       Support  \n",
      "                                                  \n",
      "   False      94.75%   84.95%   89.58%     14476  \n",
      "    True      47.92%   74.65%   58.37%      2686  \n",
      "                                                  \n",
      "   Macro      71.34%   79.80%   73.98%            \n",
      "   Micro      83.34%   83.34%   83.34%            \n",
      "Weighted      87.42%   83.34%   84.70%            \n",
      "\n",
      "                 83.34% accuracy                  \n"
     ]
    }
   ],
   "source": [
    "result_a = test(df, attacks, benign, test_ood_AnsambleOOD)"
   ]
  },
  {
   "cell_type": "code",
   "execution_count": 33,
   "id": "539b5684-cf1c-482c-9de9-d40003a209db",
   "metadata": {},
   "outputs": [
    {
     "data": {
      "text/html": [
       "<div>\n",
       "<style scoped>\n",
       "    .dataframe tbody tr th:only-of-type {\n",
       "        vertical-align: middle;\n",
       "    }\n",
       "\n",
       "    .dataframe tbody tr th {\n",
       "        vertical-align: top;\n",
       "    }\n",
       "\n",
       "    .dataframe thead tr th {\n",
       "        text-align: left;\n",
       "    }\n",
       "\n",
       "    .dataframe thead tr:last-of-type th {\n",
       "        text-align: right;\n",
       "    }\n",
       "</style>\n",
       "<table border=\"1\" class=\"dataframe\">\n",
       "  <thead>\n",
       "    <tr>\n",
       "      <th></th>\n",
       "      <th colspan=\"2\" halign=\"left\">Ensemble</th>\n",
       "    </tr>\n",
       "    <tr>\n",
       "      <th></th>\n",
       "      <th>recall for anomaly</th>\n",
       "      <th>f1 for normal</th>\n",
       "    </tr>\n",
       "    <tr>\n",
       "      <th>Label</th>\n",
       "      <th></th>\n",
       "      <th></th>\n",
       "    </tr>\n",
       "  </thead>\n",
       "  <tbody>\n",
       "    <tr>\n",
       "      <th>Web Attack - XSS - xsstrike</th>\n",
       "      <td>0.163864</td>\n",
       "      <td>0.854862</td>\n",
       "    </tr>\n",
       "    <tr>\n",
       "      <th>Web Attack - XSS - xsser</th>\n",
       "      <td>0.746463</td>\n",
       "      <td>0.895826</td>\n",
       "    </tr>\n",
       "  </tbody>\n",
       "</table>\n",
       "</div>"
      ],
      "text/plain": [
       "                                      Ensemble              \n",
       "                            recall for anomaly f1 for normal\n",
       "Label                                                       \n",
       "Web Attack - XSS - xsstrike           0.163864      0.854862\n",
       "Web Attack - XSS - xsser              0.746463      0.895826"
      ]
     },
     "execution_count": 33,
     "metadata": {},
     "output_type": "execute_result"
    }
   ],
   "source": [
    "result_a"
   ]
  },
  {
   "cell_type": "code",
   "execution_count": 34,
   "id": "79728535-67e9-448f-a9e3-d5502edcad2c",
   "metadata": {},
   "outputs": [],
   "source": [
    "results_list = [result1, result2, result3, result_a]"
   ]
  },
  {
   "cell_type": "code",
   "execution_count": 35,
   "id": "41905746-d7bb-4df4-89a5-0f9a21f21ab7",
   "metadata": {},
   "outputs": [
    {
     "name": "stdout",
     "output_type": "stream",
     "text": [
      "OCSVM\n",
      "IF\n",
      "LOF\n",
      "Ensemble\n"
     ]
    },
    {
     "data": {
      "text/html": [
       "<div>\n",
       "<style scoped>\n",
       "    .dataframe tbody tr th:only-of-type {\n",
       "        vertical-align: middle;\n",
       "    }\n",
       "\n",
       "    .dataframe tbody tr th {\n",
       "        vertical-align: top;\n",
       "    }\n",
       "\n",
       "    .dataframe thead th {\n",
       "        text-align: right;\n",
       "    }\n",
       "</style>\n",
       "<table border=\"1\" class=\"dataframe\">\n",
       "  <thead>\n",
       "    <tr style=\"text-align: right;\">\n",
       "      <th></th>\n",
       "      <th>Label</th>\n",
       "      <th>OCSVM</th>\n",
       "      <th>IF</th>\n",
       "      <th>LOF</th>\n",
       "      <th>Ensemble</th>\n",
       "    </tr>\n",
       "  </thead>\n",
       "  <tbody>\n",
       "    <tr>\n",
       "      <th>0</th>\n",
       "      <td>XSS - xsstrike</td>\n",
       "      <td>0.1/92.7</td>\n",
       "      <td>0.0/89.0</td>\n",
       "      <td>16.4/88.5</td>\n",
       "      <td>16.4/85.5</td>\n",
       "    </tr>\n",
       "    <tr>\n",
       "      <th>1</th>\n",
       "      <td>XSS - xsser</td>\n",
       "      <td>0.2/91.4</td>\n",
       "      <td>0.6/87.7</td>\n",
       "      <td>73.3/92.2</td>\n",
       "      <td>74.6/89.6</td>\n",
       "    </tr>\n",
       "  </tbody>\n",
       "</table>\n",
       "</div>"
      ],
      "text/plain": [
       "            Label     OCSVM        IF        LOF   Ensemble\n",
       "0  XSS - xsstrike  0.1/92.7  0.0/89.0  16.4/88.5  16.4/85.5\n",
       "1     XSS - xsser  0.2/91.4  0.6/87.7  73.3/92.2  74.6/89.6"
      ]
     },
     "execution_count": 35,
     "metadata": {},
     "output_type": "execute_result"
    }
   ],
   "source": [
    "results = pd.DataFrame()\n",
    "results[\"Label\"] = (result1.index).map(lambda x: x[13:])\n",
    "for result in results_list:\n",
    "    name = result.columns[0][0]\n",
    "    print(name)\n",
    "    a = (result[name]['recall for anomaly']*100).round(1)\n",
    "    b = (result[name]['f1 for normal']*100).round(1)\n",
    "    results[name] = a.combine(b, lambda x, y: f\"{x}/{y}\").reset_index(drop=True)\n",
    "results"
   ]
  },
  {
   "cell_type": "code",
   "execution_count": 36,
   "id": "e16b05cb",
   "metadata": {},
   "outputs": [],
   "source": [
    "# result = pd.merge(result1, result2, left_index=True, right_index=True)\n",
    "# result = pd.merge(result, result3, left_index=True, right_index=True)\n",
    "# result = pd.merge(result, result_a, left_index=True, right_index=True)\n",
    "# display(result)\n",
    "# display(pd.DataFrame({\"max\": result.max(), \"min\": result.min(), \"mean\": result.mean()}))"
   ]
  },
  {
   "cell_type": "code",
   "execution_count": 37,
   "id": "7df9337a-209e-4075-b71e-bf20a95ccb77",
   "metadata": {},
   "outputs": [],
   "source": [
    "# result = result.round(3)"
   ]
  },
  {
   "cell_type": "code",
   "execution_count": 38,
   "id": "16053ddc-d4f7-4bc3-84da-0a662ed8c1c0",
   "metadata": {},
   "outputs": [],
   "source": [
    "# result.index = result.index.map(lambda s: s[13:])"
   ]
  },
  {
   "cell_type": "code",
   "execution_count": 39,
   "id": "ab12e5a8",
   "metadata": {},
   "outputs": [],
   "source": [
    "results.to_csv('ood-results-xsser.csv', index=False)"
   ]
  },
  {
   "cell_type": "code",
   "execution_count": 40,
   "id": "9891c35f-f408-4b8e-aebd-64120ef1e9bc",
   "metadata": {},
   "outputs": [],
   "source": [
    "results = pd.read_csv('ood-results-xsser.csv', header=[0, 1], index_col=0)"
   ]
  },
  {
   "cell_type": "code",
   "execution_count": null,
   "id": "fdb86852-a285-4048-9c8b-0129f07f51cb",
   "metadata": {},
   "outputs": [],
   "source": []
  }
 ],
 "metadata": {
  "kernelspec": {
   "display_name": "attack-detection",
   "language": "python",
   "name": "attack-detection"
  },
  "language_info": {
   "codemirror_mode": {
    "name": "ipython",
    "version": 3
   },
   "file_extension": ".py",
   "mimetype": "text/x-python",
   "name": "python",
   "nbconvert_exporter": "python",
   "pygments_lexer": "ipython3",
   "version": "3.10.14"
  }
 },
 "nbformat": 4,
 "nbformat_minor": 5
}
